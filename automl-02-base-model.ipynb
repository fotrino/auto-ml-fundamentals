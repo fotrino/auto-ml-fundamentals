{
 "cells": [
  {
   "cell_type": "markdown",
   "id": "6a9e9be5",
   "metadata": {
    "papermill": {
     "duration": 0.039014,
     "end_time": "2021-10-12T11:51:54.347182",
     "exception": false,
     "start_time": "2021-10-12T11:51:54.308168",
     "status": "completed"
    },
    "tags": []
   },
   "source": [
    "### Install & Import Libraries"
   ]
  },
  {
   "cell_type": "code",
   "execution_count": 1,
   "id": "0eb7f344",
   "metadata": {
    "execution": {
     "iopub.execute_input": "2021-10-12T11:51:54.438494Z",
     "iopub.status.busy": "2021-10-12T11:51:54.437866Z",
     "iopub.status.idle": "2021-10-12T11:52:28.907403Z",
     "shell.execute_reply": "2021-10-12T11:52:28.906641Z",
     "shell.execute_reply.started": "2021-10-12T11:19:47.845266Z"
    },
    "id": "0vt4ciVMX66Q",
    "papermill": {
     "duration": 34.520291,
     "end_time": "2021-10-12T11:52:28.907607",
     "exception": false,
     "start_time": "2021-10-12T11:51:54.387316",
     "status": "completed"
    },
    "tags": []
   },
   "outputs": [
    {
     "name": "stdout",
     "output_type": "stream",
     "text": [
      "\u001b[31mERROR: pip's dependency resolver does not currently take into account all the packages that are installed. This behaviour is the source of the following dependency conflicts.\r\n",
      "scattertext 0.1.4 requires gensim>=4.0.0, but you have gensim 3.8.3 which is incompatible.\r\n",
      "pdpbox 0.2.1 requires matplotlib==3.1.1, but you have matplotlib 3.4.3 which is incompatible.\r\n",
      "matrixprofile 1.1.10 requires protobuf==3.11.2, but you have protobuf 3.18.0 which is incompatible.\u001b[0m\r\n",
      "\u001b[33mWARNING: Running pip as the 'root' user can result in broken permissions and conflicting behaviour with the system package manager. It is recommended to use a virtual environment instead: https://pip.pypa.io/warnings/venv\u001b[0m\r\n"
     ]
    }
   ],
   "source": [
    "! pip install --quiet -U pycaret"
   ]
  },
  {
   "cell_type": "code",
   "execution_count": 2,
   "id": "b8416d91",
   "metadata": {
    "execution": {
     "iopub.execute_input": "2021-10-12T11:52:28.992358Z",
     "iopub.status.busy": "2021-10-12T11:52:28.991269Z",
     "iopub.status.idle": "2021-10-12T11:52:32.964619Z",
     "shell.execute_reply": "2021-10-12T11:52:32.963942Z",
     "shell.execute_reply.started": "2021-10-12T11:19:57.542790Z"
    },
    "id": "ZnM7vAvfVzWD",
    "papermill": {
     "duration": 4.018421,
     "end_time": "2021-10-12T11:52:32.964803",
     "exception": false,
     "start_time": "2021-10-12T11:52:28.946382",
     "status": "completed"
    },
    "tags": []
   },
   "outputs": [
    {
     "data": {
      "text/html": [
       "<style type='text/css'>\n",
       ".datatable table.frame { margin-bottom: 0; }\n",
       ".datatable table.frame thead { border-bottom: none; }\n",
       ".datatable table.frame tr.coltypes td {  color: #FFFFFF;  line-height: 6px;  padding: 0 0.5em;}\n",
       ".datatable .bool    { background: #DDDD99; }\n",
       ".datatable .object  { background: #565656; }\n",
       ".datatable .int     { background: #5D9E5D; }\n",
       ".datatable .float   { background: #4040CC; }\n",
       ".datatable .str     { background: #CC4040; }\n",
       ".datatable .time    { background: #40CC40; }\n",
       ".datatable .row_index {  background: var(--jp-border-color3);  border-right: 1px solid var(--jp-border-color0);  color: var(--jp-ui-font-color3);  font-size: 9px;}\n",
       ".datatable .frame tbody td { text-align: left; }\n",
       ".datatable .frame tr.coltypes .row_index {  background: var(--jp-border-color0);}\n",
       ".datatable th:nth-child(2) { padding-left: 12px; }\n",
       ".datatable .hellipsis {  color: var(--jp-cell-editor-border-color);}\n",
       ".datatable .vellipsis {  background: var(--jp-layout-color0);  color: var(--jp-cell-editor-border-color);}\n",
       ".datatable .na {  color: var(--jp-cell-editor-border-color);  font-size: 80%;}\n",
       ".datatable .sp {  opacity: 0.25;}\n",
       ".datatable .footer { font-size: 9px; }\n",
       ".datatable .frame_dimensions {  background: var(--jp-border-color3);  border-top: 1px solid var(--jp-border-color0);  color: var(--jp-ui-font-color3);  display: inline-block;  opacity: 0.6;  padding: 1px 10px 1px 5px;}\n",
       "</style>\n"
      ],
      "text/plain": [
       "<IPython.core.display.HTML object>"
      ]
     },
     "metadata": {},
     "output_type": "display_data"
    }
   ],
   "source": [
    "import numpy as np\n",
    "import pandas as pd\n",
    "from pycaret.classification import *\n",
    "\n",
    "pd.set_option(\"display.max_columns\", None)"
   ]
  },
  {
   "cell_type": "markdown",
   "id": "0290a8ed",
   "metadata": {
    "papermill": {
     "duration": 0.039054,
     "end_time": "2021-10-12T11:52:33.042623",
     "exception": false,
     "start_time": "2021-10-12T11:52:33.003569",
     "status": "completed"
    },
    "tags": []
   },
   "source": [
    "### Import Dataset"
   ]
  },
  {
   "cell_type": "code",
   "execution_count": 3,
   "id": "a8395ab1",
   "metadata": {
    "execution": {
     "iopub.execute_input": "2021-10-12T11:52:33.125418Z",
     "iopub.status.busy": "2021-10-12T11:52:33.124665Z",
     "iopub.status.idle": "2021-10-12T11:52:37.301151Z",
     "shell.execute_reply": "2021-10-12T11:52:37.300484Z",
     "shell.execute_reply.started": "2021-10-12T11:19:57.551946Z"
    },
    "id": "6uyXOxJDVzWO",
    "outputId": "c42e43e5-a8de-4a81-b0d5-84446a6e8f60",
    "papermill": {
     "duration": 4.220309,
     "end_time": "2021-10-12T11:52:37.301311",
     "exception": false,
     "start_time": "2021-10-12T11:52:33.081002",
     "status": "completed"
    },
    "tags": []
   },
   "outputs": [],
   "source": [
    "df = pd.read_csv('data/lending_club_loan_two.csv')"
   ]
  },
  {
   "cell_type": "markdown",
   "id": "9b06fe21",
   "metadata": {
    "papermill": {
     "duration": 0.039155,
     "end_time": "2021-10-12T11:52:37.379061",
     "exception": false,
     "start_time": "2021-10-12T11:52:37.339906",
     "status": "completed"
    },
    "tags": []
   },
   "source": [
    "### Select Year of Analysis"
   ]
  },
  {
   "cell_type": "code",
   "execution_count": 4,
   "id": "5c5f82f9",
   "metadata": {
    "execution": {
     "iopub.execute_input": "2021-10-12T11:52:37.526227Z",
     "iopub.status.busy": "2021-10-12T11:52:37.525166Z",
     "iopub.status.idle": "2021-10-12T11:52:37.800812Z",
     "shell.execute_reply": "2021-10-12T11:52:37.800007Z",
     "shell.execute_reply.started": "2021-10-12T11:20:00.256843Z"
    },
    "id": "E1YYSmKtVzWS",
    "papermill": {
     "duration": 0.374339,
     "end_time": "2021-10-12T11:52:37.800974",
     "exception": false,
     "start_time": "2021-10-12T11:52:37.426635",
     "status": "completed"
    },
    "tags": []
   },
   "outputs": [],
   "source": [
    "df['issue_d'] = pd.to_datetime(df['issue_d'])\n",
    "df = df[df['issue_d'].dt.year == 2016]"
   ]
  },
  {
   "cell_type": "markdown",
   "id": "986fe966",
   "metadata": {
    "papermill": {
     "duration": 0.037719,
     "end_time": "2021-10-12T11:52:37.876606",
     "exception": false,
     "start_time": "2021-10-12T11:52:37.838887",
     "status": "completed"
    },
    "tags": []
   },
   "source": [
    "### Overview of Selected Dataset"
   ]
  },
  {
   "cell_type": "code",
   "execution_count": 5,
   "id": "02b773d4",
   "metadata": {
    "execution": {
     "iopub.execute_input": "2021-10-12T11:52:37.958779Z",
     "iopub.status.busy": "2021-10-12T11:52:37.958047Z",
     "iopub.status.idle": "2021-10-12T11:52:37.963198Z",
     "shell.execute_reply": "2021-10-12T11:52:37.963831Z",
     "shell.execute_reply.started": "2021-10-12T11:20:00.512271Z"
    },
    "papermill": {
     "duration": 0.049518,
     "end_time": "2021-10-12T11:52:37.964028",
     "exception": false,
     "start_time": "2021-10-12T11:52:37.914510",
     "status": "completed"
    },
    "tags": []
   },
   "outputs": [
    {
     "data": {
      "text/plain": [
       "(28088, 27)"
      ]
     },
     "execution_count": 5,
     "metadata": {},
     "output_type": "execute_result"
    }
   ],
   "source": [
    "df.shape"
   ]
  },
  {
   "cell_type": "code",
   "execution_count": 6,
   "id": "38afcbee",
   "metadata": {
    "execution": {
     "iopub.execute_input": "2021-10-12T11:52:38.044878Z",
     "iopub.status.busy": "2021-10-12T11:52:38.044167Z",
     "iopub.status.idle": "2021-10-12T11:52:38.083673Z",
     "shell.execute_reply": "2021-10-12T11:52:38.083051Z",
     "shell.execute_reply.started": "2021-10-12T11:20:00.521947Z"
    },
    "papermill": {
     "duration": 0.081916,
     "end_time": "2021-10-12T11:52:38.083836",
     "exception": false,
     "start_time": "2021-10-12T11:52:38.001920",
     "status": "completed"
    },
    "tags": []
   },
   "outputs": [
    {
     "data": {
      "text/html": [
       "<div>\n",
       "<style scoped>\n",
       "    .dataframe tbody tr th:only-of-type {\n",
       "        vertical-align: middle;\n",
       "    }\n",
       "\n",
       "    .dataframe tbody tr th {\n",
       "        vertical-align: top;\n",
       "    }\n",
       "\n",
       "    .dataframe thead th {\n",
       "        text-align: right;\n",
       "    }\n",
       "</style>\n",
       "<table border=\"1\" class=\"dataframe\">\n",
       "  <thead>\n",
       "    <tr style=\"text-align: right;\">\n",
       "      <th></th>\n",
       "      <th>loan_amnt</th>\n",
       "      <th>term</th>\n",
       "      <th>int_rate</th>\n",
       "      <th>installment</th>\n",
       "      <th>grade</th>\n",
       "      <th>sub_grade</th>\n",
       "      <th>emp_title</th>\n",
       "      <th>emp_length</th>\n",
       "      <th>home_ownership</th>\n",
       "      <th>annual_inc</th>\n",
       "      <th>verification_status</th>\n",
       "      <th>issue_d</th>\n",
       "      <th>loan_status</th>\n",
       "      <th>purpose</th>\n",
       "      <th>title</th>\n",
       "      <th>dti</th>\n",
       "      <th>earliest_cr_line</th>\n",
       "      <th>open_acc</th>\n",
       "      <th>pub_rec</th>\n",
       "      <th>revol_bal</th>\n",
       "      <th>revol_util</th>\n",
       "      <th>total_acc</th>\n",
       "      <th>initial_list_status</th>\n",
       "      <th>application_type</th>\n",
       "      <th>mort_acc</th>\n",
       "      <th>pub_rec_bankruptcies</th>\n",
       "      <th>address</th>\n",
       "    </tr>\n",
       "  </thead>\n",
       "  <tbody>\n",
       "    <tr>\n",
       "      <th>19</th>\n",
       "      <td>20000.0</td>\n",
       "      <td>36 months</td>\n",
       "      <td>6.97</td>\n",
       "      <td>617.27</td>\n",
       "      <td>A</td>\n",
       "      <td>A3</td>\n",
       "      <td>Registered Nurse</td>\n",
       "      <td>7 years</td>\n",
       "      <td>MORTGAGE</td>\n",
       "      <td>85000.0</td>\n",
       "      <td>Not Verified</td>\n",
       "      <td>2016-03-01</td>\n",
       "      <td>Fully Paid</td>\n",
       "      <td>debt_consolidation</td>\n",
       "      <td>Debt consolidation</td>\n",
       "      <td>18.80</td>\n",
       "      <td>Mar-2000</td>\n",
       "      <td>15.0</td>\n",
       "      <td>0.0</td>\n",
       "      <td>24195.0</td>\n",
       "      <td>55.7</td>\n",
       "      <td>38.0</td>\n",
       "      <td>w</td>\n",
       "      <td>INDIVIDUAL</td>\n",
       "      <td>1.0</td>\n",
       "      <td>0.0</td>\n",
       "      <td>Unit 8386 Box 5821\\r\\nDPO AE 05113</td>\n",
       "    </tr>\n",
       "    <tr>\n",
       "      <th>45</th>\n",
       "      <td>6700.0</td>\n",
       "      <td>36 months</td>\n",
       "      <td>21.49</td>\n",
       "      <td>254.12</td>\n",
       "      <td>D</td>\n",
       "      <td>D5</td>\n",
       "      <td>Home attendant</td>\n",
       "      <td>&lt; 1 year</td>\n",
       "      <td>RENT</td>\n",
       "      <td>21000.0</td>\n",
       "      <td>Verified</td>\n",
       "      <td>2016-06-01</td>\n",
       "      <td>Fully Paid</td>\n",
       "      <td>debt_consolidation</td>\n",
       "      <td>Debt consolidation</td>\n",
       "      <td>10.86</td>\n",
       "      <td>Dec-2010</td>\n",
       "      <td>15.0</td>\n",
       "      <td>0.0</td>\n",
       "      <td>5832.0</td>\n",
       "      <td>14.7</td>\n",
       "      <td>21.0</td>\n",
       "      <td>w</td>\n",
       "      <td>INDIVIDUAL</td>\n",
       "      <td>0.0</td>\n",
       "      <td>0.0</td>\n",
       "      <td>PSC 7168, Box 4065\\r\\nAPO AA 22690</td>\n",
       "    </tr>\n",
       "    <tr>\n",
       "      <th>49</th>\n",
       "      <td>15000.0</td>\n",
       "      <td>36 months</td>\n",
       "      <td>7.89</td>\n",
       "      <td>469.29</td>\n",
       "      <td>A</td>\n",
       "      <td>A5</td>\n",
       "      <td>NaN</td>\n",
       "      <td>NaN</td>\n",
       "      <td>MORTGAGE</td>\n",
       "      <td>90000.0</td>\n",
       "      <td>Verified</td>\n",
       "      <td>2016-04-01</td>\n",
       "      <td>Fully Paid</td>\n",
       "      <td>debt_consolidation</td>\n",
       "      <td>Debt consolidation</td>\n",
       "      <td>11.75</td>\n",
       "      <td>Aug-1994</td>\n",
       "      <td>7.0</td>\n",
       "      <td>0.0</td>\n",
       "      <td>8205.0</td>\n",
       "      <td>93.2</td>\n",
       "      <td>18.0</td>\n",
       "      <td>w</td>\n",
       "      <td>INDIVIDUAL</td>\n",
       "      <td>6.0</td>\n",
       "      <td>0.0</td>\n",
       "      <td>84009 David Stream\\r\\nSouth Nicolehaven, IL 05113</td>\n",
       "    </tr>\n",
       "    <tr>\n",
       "      <th>51</th>\n",
       "      <td>15000.0</td>\n",
       "      <td>60 months</td>\n",
       "      <td>18.25</td>\n",
       "      <td>382.95</td>\n",
       "      <td>D</td>\n",
       "      <td>D3</td>\n",
       "      <td>Rn</td>\n",
       "      <td>8 years</td>\n",
       "      <td>MORTGAGE</td>\n",
       "      <td>75000.0</td>\n",
       "      <td>Source Verified</td>\n",
       "      <td>2016-05-01</td>\n",
       "      <td>Fully Paid</td>\n",
       "      <td>debt_consolidation</td>\n",
       "      <td>Debt consolidation</td>\n",
       "      <td>24.43</td>\n",
       "      <td>Apr-1995</td>\n",
       "      <td>18.0</td>\n",
       "      <td>0.0</td>\n",
       "      <td>41310.0</td>\n",
       "      <td>59.6</td>\n",
       "      <td>23.0</td>\n",
       "      <td>w</td>\n",
       "      <td>INDIVIDUAL</td>\n",
       "      <td>2.0</td>\n",
       "      <td>0.0</td>\n",
       "      <td>51321 Joshua Villages Suite 660\\r\\nWest Amanda...</td>\n",
       "    </tr>\n",
       "    <tr>\n",
       "      <th>85</th>\n",
       "      <td>5600.0</td>\n",
       "      <td>36 months</td>\n",
       "      <td>7.89</td>\n",
       "      <td>175.20</td>\n",
       "      <td>A</td>\n",
       "      <td>A5</td>\n",
       "      <td>Mate</td>\n",
       "      <td>5 years</td>\n",
       "      <td>MORTGAGE</td>\n",
       "      <td>63000.0</td>\n",
       "      <td>Verified</td>\n",
       "      <td>2016-06-01</td>\n",
       "      <td>Fully Paid</td>\n",
       "      <td>credit_card</td>\n",
       "      <td>Credit card refinancing</td>\n",
       "      <td>3.20</td>\n",
       "      <td>Sep-2012</td>\n",
       "      <td>5.0</td>\n",
       "      <td>0.0</td>\n",
       "      <td>5066.0</td>\n",
       "      <td>46.9</td>\n",
       "      <td>8.0</td>\n",
       "      <td>f</td>\n",
       "      <td>INDIVIDUAL</td>\n",
       "      <td>1.0</td>\n",
       "      <td>0.0</td>\n",
       "      <td>7762 Leslie Dale\\r\\nCynthiaville, NJ 70466</td>\n",
       "    </tr>\n",
       "  </tbody>\n",
       "</table>\n",
       "</div>"
      ],
      "text/plain": [
       "    loan_amnt        term  int_rate  installment grade sub_grade  \\\n",
       "19    20000.0   36 months      6.97       617.27     A        A3   \n",
       "45     6700.0   36 months     21.49       254.12     D        D5   \n",
       "49    15000.0   36 months      7.89       469.29     A        A5   \n",
       "51    15000.0   60 months     18.25       382.95     D        D3   \n",
       "85     5600.0   36 months      7.89       175.20     A        A5   \n",
       "\n",
       "           emp_title emp_length home_ownership  annual_inc  \\\n",
       "19  Registered Nurse    7 years       MORTGAGE     85000.0   \n",
       "45   Home attendant    < 1 year           RENT     21000.0   \n",
       "49               NaN        NaN       MORTGAGE     90000.0   \n",
       "51                Rn    8 years       MORTGAGE     75000.0   \n",
       "85              Mate    5 years       MORTGAGE     63000.0   \n",
       "\n",
       "   verification_status    issue_d loan_status             purpose  \\\n",
       "19        Not Verified 2016-03-01  Fully Paid  debt_consolidation   \n",
       "45            Verified 2016-06-01  Fully Paid  debt_consolidation   \n",
       "49            Verified 2016-04-01  Fully Paid  debt_consolidation   \n",
       "51     Source Verified 2016-05-01  Fully Paid  debt_consolidation   \n",
       "85            Verified 2016-06-01  Fully Paid         credit_card   \n",
       "\n",
       "                      title    dti earliest_cr_line  open_acc  pub_rec  \\\n",
       "19       Debt consolidation  18.80         Mar-2000      15.0      0.0   \n",
       "45       Debt consolidation  10.86         Dec-2010      15.0      0.0   \n",
       "49       Debt consolidation  11.75         Aug-1994       7.0      0.0   \n",
       "51       Debt consolidation  24.43         Apr-1995      18.0      0.0   \n",
       "85  Credit card refinancing   3.20         Sep-2012       5.0      0.0   \n",
       "\n",
       "    revol_bal  revol_util  total_acc initial_list_status application_type  \\\n",
       "19    24195.0        55.7       38.0                   w       INDIVIDUAL   \n",
       "45     5832.0        14.7       21.0                   w       INDIVIDUAL   \n",
       "49     8205.0        93.2       18.0                   w       INDIVIDUAL   \n",
       "51    41310.0        59.6       23.0                   w       INDIVIDUAL   \n",
       "85     5066.0        46.9        8.0                   f       INDIVIDUAL   \n",
       "\n",
       "    mort_acc  pub_rec_bankruptcies  \\\n",
       "19       1.0                   0.0   \n",
       "45       0.0                   0.0   \n",
       "49       6.0                   0.0   \n",
       "51       2.0                   0.0   \n",
       "85       1.0                   0.0   \n",
       "\n",
       "                                              address  \n",
       "19                 Unit 8386 Box 5821\\r\\nDPO AE 05113  \n",
       "45                 PSC 7168, Box 4065\\r\\nAPO AA 22690  \n",
       "49  84009 David Stream\\r\\nSouth Nicolehaven, IL 05113  \n",
       "51  51321 Joshua Villages Suite 660\\r\\nWest Amanda...  \n",
       "85         7762 Leslie Dale\\r\\nCynthiaville, NJ 70466  "
      ]
     },
     "execution_count": 6,
     "metadata": {},
     "output_type": "execute_result"
    }
   ],
   "source": [
    "df.head()"
   ]
  },
  {
   "cell_type": "markdown",
   "id": "a29bbba6",
   "metadata": {
    "papermill": {
     "duration": 0.038301,
     "end_time": "2021-10-12T11:52:38.160951",
     "exception": false,
     "start_time": "2021-10-12T11:52:38.122650",
     "status": "completed"
    },
    "tags": []
   },
   "source": [
    "#### Target Variable Proportions"
   ]
  },
  {
   "cell_type": "code",
   "execution_count": 7,
   "id": "986ef6ec",
   "metadata": {
    "execution": {
     "iopub.execute_input": "2021-10-12T11:52:38.242137Z",
     "iopub.status.busy": "2021-10-12T11:52:38.241359Z",
     "iopub.status.idle": "2021-10-12T11:52:38.258267Z",
     "shell.execute_reply": "2021-10-12T11:52:38.257663Z",
     "shell.execute_reply.started": "2021-10-12T11:20:00.565280Z"
    },
    "papermill": {
     "duration": 0.058888,
     "end_time": "2021-10-12T11:52:38.258434",
     "exception": false,
     "start_time": "2021-10-12T11:52:38.199546",
     "status": "completed"
    },
    "tags": []
   },
   "outputs": [
    {
     "data": {
      "text/plain": [
       "Fully Paid     0.868698\n",
       "Charged Off    0.131302\n",
       "Name: loan_status, dtype: float64"
      ]
     },
     "execution_count": 7,
     "metadata": {},
     "output_type": "execute_result"
    }
   ],
   "source": [
    "df['loan_status'].value_counts(dropna=False) / len(df['loan_status'])"
   ]
  },
  {
   "cell_type": "markdown",
   "id": "fcaeb79b",
   "metadata": {
    "papermill": {
     "duration": 0.03859,
     "end_time": "2021-10-12T11:52:38.336132",
     "exception": false,
     "start_time": "2021-10-12T11:52:38.297542",
     "status": "completed"
    },
    "tags": []
   },
   "source": [
    "#### Drop High Cardinality Variables"
   ]
  },
  {
   "cell_type": "code",
   "execution_count": 8,
   "id": "d91c5728",
   "metadata": {
    "execution": {
     "iopub.execute_input": "2021-10-12T11:52:38.418750Z",
     "iopub.status.busy": "2021-10-12T11:52:38.418057Z",
     "iopub.status.idle": "2021-10-12T11:52:38.426122Z",
     "shell.execute_reply": "2021-10-12T11:52:38.426633Z",
     "shell.execute_reply.started": "2021-10-12T11:20:00.587634Z"
    },
    "id": "RphtnhcdVzWV",
    "papermill": {
     "duration": 0.05169,
     "end_time": "2021-10-12T11:52:38.426825",
     "exception": false,
     "start_time": "2021-10-12T11:52:38.375135",
     "status": "completed"
    },
    "tags": []
   },
   "outputs": [],
   "source": [
    "df = df.drop(columns=['emp_title', 'address', 'title', 'grade', 'sub_grade', 'issue_d', 'earliest_cr_line'])"
   ]
  },
  {
   "cell_type": "markdown",
   "id": "a98bcab4",
   "metadata": {
    "papermill": {
     "duration": 0.038264,
     "end_time": "2021-10-12T11:52:38.503900",
     "exception": false,
     "start_time": "2021-10-12T11:52:38.465636",
     "status": "completed"
    },
    "tags": []
   },
   "source": [
    "### Setup & Run Pycaret\n",
    "\n",
    "* F1 was selected for optimization due to the imbalance in clases."
   ]
  },
  {
   "cell_type": "code",
   "execution_count": 9,
   "id": "6cf33574",
   "metadata": {
    "execution": {
     "iopub.execute_input": "2021-10-12T11:52:38.590349Z",
     "iopub.status.busy": "2021-10-12T11:52:38.586495Z",
     "iopub.status.idle": "2021-10-12T11:52:41.664870Z",
     "shell.execute_reply": "2021-10-12T11:52:41.664275Z",
     "shell.execute_reply.started": "2021-10-12T11:20:00.597290Z"
    },
    "id": "uFf-HoEbVzWe",
    "outputId": "17fac074-39a0-461f-fffd-032b6efca9a5",
    "papermill": {
     "duration": 3.121599,
     "end_time": "2021-10-12T11:52:41.665040",
     "exception": false,
     "start_time": "2021-10-12T11:52:38.543441",
     "status": "completed"
    },
    "tags": []
   },
   "outputs": [
    {
     "data": {
      "text/html": [
       "<style type=\"text/css\">\n",
       "#T_247ef_row0_col1, #T_247ef_row5_col1, #T_247ef_row19_col1, #T_247ef_row44_col1, #T_247ef_row58_col1 {\n",
       "  background-color: lightgreen;\n",
       "}\n",
       "</style>\n",
       "<table id=\"T_247ef_\">\n",
       "  <thead>\n",
       "    <tr>\n",
       "      <th class=\"blank level0\" >&nbsp;</th>\n",
       "      <th class=\"col_heading level0 col0\" >Description</th>\n",
       "      <th class=\"col_heading level0 col1\" >Value</th>\n",
       "    </tr>\n",
       "  </thead>\n",
       "  <tbody>\n",
       "    <tr>\n",
       "      <th id=\"T_247ef_level0_row0\" class=\"row_heading level0 row0\" >0</th>\n",
       "      <td id=\"T_247ef_row0_col0\" class=\"data row0 col0\" >session_id</td>\n",
       "      <td id=\"T_247ef_row0_col1\" class=\"data row0 col1\" >1</td>\n",
       "    </tr>\n",
       "    <tr>\n",
       "      <th id=\"T_247ef_level0_row1\" class=\"row_heading level0 row1\" >1</th>\n",
       "      <td id=\"T_247ef_row1_col0\" class=\"data row1 col0\" >Target</td>\n",
       "      <td id=\"T_247ef_row1_col1\" class=\"data row1 col1\" >loan_status</td>\n",
       "    </tr>\n",
       "    <tr>\n",
       "      <th id=\"T_247ef_level0_row2\" class=\"row_heading level0 row2\" >2</th>\n",
       "      <td id=\"T_247ef_row2_col0\" class=\"data row2 col0\" >Target Type</td>\n",
       "      <td id=\"T_247ef_row2_col1\" class=\"data row2 col1\" >Binary</td>\n",
       "    </tr>\n",
       "    <tr>\n",
       "      <th id=\"T_247ef_level0_row3\" class=\"row_heading level0 row3\" >3</th>\n",
       "      <td id=\"T_247ef_row3_col0\" class=\"data row3 col0\" >Label Encoded</td>\n",
       "      <td id=\"T_247ef_row3_col1\" class=\"data row3 col1\" >Charged Off: 0, Fully Paid: 1</td>\n",
       "    </tr>\n",
       "    <tr>\n",
       "      <th id=\"T_247ef_level0_row4\" class=\"row_heading level0 row4\" >4</th>\n",
       "      <td id=\"T_247ef_row4_col0\" class=\"data row4 col0\" >Original Data</td>\n",
       "      <td id=\"T_247ef_row4_col1\" class=\"data row4 col1\" >(28088, 20)</td>\n",
       "    </tr>\n",
       "    <tr>\n",
       "      <th id=\"T_247ef_level0_row5\" class=\"row_heading level0 row5\" >5</th>\n",
       "      <td id=\"T_247ef_row5_col0\" class=\"data row5 col0\" >Missing Values</td>\n",
       "      <td id=\"T_247ef_row5_col1\" class=\"data row5 col1\" >True</td>\n",
       "    </tr>\n",
       "    <tr>\n",
       "      <th id=\"T_247ef_level0_row6\" class=\"row_heading level0 row6\" >6</th>\n",
       "      <td id=\"T_247ef_row6_col0\" class=\"data row6 col0\" >Numeric Features</td>\n",
       "      <td id=\"T_247ef_row6_col1\" class=\"data row6 col1\" >12</td>\n",
       "    </tr>\n",
       "    <tr>\n",
       "      <th id=\"T_247ef_level0_row7\" class=\"row_heading level0 row7\" >7</th>\n",
       "      <td id=\"T_247ef_row7_col0\" class=\"data row7 col0\" >Categorical Features</td>\n",
       "      <td id=\"T_247ef_row7_col1\" class=\"data row7 col1\" >7</td>\n",
       "    </tr>\n",
       "    <tr>\n",
       "      <th id=\"T_247ef_level0_row8\" class=\"row_heading level0 row8\" >8</th>\n",
       "      <td id=\"T_247ef_row8_col0\" class=\"data row8 col0\" >Ordinal Features</td>\n",
       "      <td id=\"T_247ef_row8_col1\" class=\"data row8 col1\" >False</td>\n",
       "    </tr>\n",
       "    <tr>\n",
       "      <th id=\"T_247ef_level0_row9\" class=\"row_heading level0 row9\" >9</th>\n",
       "      <td id=\"T_247ef_row9_col0\" class=\"data row9 col0\" >High Cardinality Features</td>\n",
       "      <td id=\"T_247ef_row9_col1\" class=\"data row9 col1\" >False</td>\n",
       "    </tr>\n",
       "    <tr>\n",
       "      <th id=\"T_247ef_level0_row10\" class=\"row_heading level0 row10\" >10</th>\n",
       "      <td id=\"T_247ef_row10_col0\" class=\"data row10 col0\" >High Cardinality Method</td>\n",
       "      <td id=\"T_247ef_row10_col1\" class=\"data row10 col1\" >None</td>\n",
       "    </tr>\n",
       "    <tr>\n",
       "      <th id=\"T_247ef_level0_row11\" class=\"row_heading level0 row11\" >11</th>\n",
       "      <td id=\"T_247ef_row11_col0\" class=\"data row11 col0\" >Transformed Train Set</td>\n",
       "      <td id=\"T_247ef_row11_col1\" class=\"data row11 col1\" >(19661, 48)</td>\n",
       "    </tr>\n",
       "    <tr>\n",
       "      <th id=\"T_247ef_level0_row12\" class=\"row_heading level0 row12\" >12</th>\n",
       "      <td id=\"T_247ef_row12_col0\" class=\"data row12 col0\" >Transformed Test Set</td>\n",
       "      <td id=\"T_247ef_row12_col1\" class=\"data row12 col1\" >(8427, 48)</td>\n",
       "    </tr>\n",
       "    <tr>\n",
       "      <th id=\"T_247ef_level0_row13\" class=\"row_heading level0 row13\" >13</th>\n",
       "      <td id=\"T_247ef_row13_col0\" class=\"data row13 col0\" >Shuffle Train-Test</td>\n",
       "      <td id=\"T_247ef_row13_col1\" class=\"data row13 col1\" >True</td>\n",
       "    </tr>\n",
       "    <tr>\n",
       "      <th id=\"T_247ef_level0_row14\" class=\"row_heading level0 row14\" >14</th>\n",
       "      <td id=\"T_247ef_row14_col0\" class=\"data row14 col0\" >Stratify Train-Test</td>\n",
       "      <td id=\"T_247ef_row14_col1\" class=\"data row14 col1\" >False</td>\n",
       "    </tr>\n",
       "    <tr>\n",
       "      <th id=\"T_247ef_level0_row15\" class=\"row_heading level0 row15\" >15</th>\n",
       "      <td id=\"T_247ef_row15_col0\" class=\"data row15 col0\" >Fold Generator</td>\n",
       "      <td id=\"T_247ef_row15_col1\" class=\"data row15 col1\" >StratifiedKFold</td>\n",
       "    </tr>\n",
       "    <tr>\n",
       "      <th id=\"T_247ef_level0_row16\" class=\"row_heading level0 row16\" >16</th>\n",
       "      <td id=\"T_247ef_row16_col0\" class=\"data row16 col0\" >Fold Number</td>\n",
       "      <td id=\"T_247ef_row16_col1\" class=\"data row16 col1\" >10</td>\n",
       "    </tr>\n",
       "    <tr>\n",
       "      <th id=\"T_247ef_level0_row17\" class=\"row_heading level0 row17\" >17</th>\n",
       "      <td id=\"T_247ef_row17_col0\" class=\"data row17 col0\" >CPU Jobs</td>\n",
       "      <td id=\"T_247ef_row17_col1\" class=\"data row17 col1\" >-1</td>\n",
       "    </tr>\n",
       "    <tr>\n",
       "      <th id=\"T_247ef_level0_row18\" class=\"row_heading level0 row18\" >18</th>\n",
       "      <td id=\"T_247ef_row18_col0\" class=\"data row18 col0\" >Use GPU</td>\n",
       "      <td id=\"T_247ef_row18_col1\" class=\"data row18 col1\" >False</td>\n",
       "    </tr>\n",
       "    <tr>\n",
       "      <th id=\"T_247ef_level0_row19\" class=\"row_heading level0 row19\" >19</th>\n",
       "      <td id=\"T_247ef_row19_col0\" class=\"data row19 col0\" >Log Experiment</td>\n",
       "      <td id=\"T_247ef_row19_col1\" class=\"data row19 col1\" >True</td>\n",
       "    </tr>\n",
       "    <tr>\n",
       "      <th id=\"T_247ef_level0_row20\" class=\"row_heading level0 row20\" >20</th>\n",
       "      <td id=\"T_247ef_row20_col0\" class=\"data row20 col0\" >Experiment Name</td>\n",
       "      <td id=\"T_247ef_row20_col1\" class=\"data row20 col1\" >train</td>\n",
       "    </tr>\n",
       "    <tr>\n",
       "      <th id=\"T_247ef_level0_row21\" class=\"row_heading level0 row21\" >21</th>\n",
       "      <td id=\"T_247ef_row21_col0\" class=\"data row21 col0\" >USI</td>\n",
       "      <td id=\"T_247ef_row21_col1\" class=\"data row21 col1\" >334e</td>\n",
       "    </tr>\n",
       "    <tr>\n",
       "      <th id=\"T_247ef_level0_row22\" class=\"row_heading level0 row22\" >22</th>\n",
       "      <td id=\"T_247ef_row22_col0\" class=\"data row22 col0\" >Imputation Type</td>\n",
       "      <td id=\"T_247ef_row22_col1\" class=\"data row22 col1\" >simple</td>\n",
       "    </tr>\n",
       "    <tr>\n",
       "      <th id=\"T_247ef_level0_row23\" class=\"row_heading level0 row23\" >23</th>\n",
       "      <td id=\"T_247ef_row23_col0\" class=\"data row23 col0\" >Iterative Imputation Iteration</td>\n",
       "      <td id=\"T_247ef_row23_col1\" class=\"data row23 col1\" >None</td>\n",
       "    </tr>\n",
       "    <tr>\n",
       "      <th id=\"T_247ef_level0_row24\" class=\"row_heading level0 row24\" >24</th>\n",
       "      <td id=\"T_247ef_row24_col0\" class=\"data row24 col0\" >Numeric Imputer</td>\n",
       "      <td id=\"T_247ef_row24_col1\" class=\"data row24 col1\" >mean</td>\n",
       "    </tr>\n",
       "    <tr>\n",
       "      <th id=\"T_247ef_level0_row25\" class=\"row_heading level0 row25\" >25</th>\n",
       "      <td id=\"T_247ef_row25_col0\" class=\"data row25 col0\" >Iterative Imputation Numeric Model</td>\n",
       "      <td id=\"T_247ef_row25_col1\" class=\"data row25 col1\" >None</td>\n",
       "    </tr>\n",
       "    <tr>\n",
       "      <th id=\"T_247ef_level0_row26\" class=\"row_heading level0 row26\" >26</th>\n",
       "      <td id=\"T_247ef_row26_col0\" class=\"data row26 col0\" >Categorical Imputer</td>\n",
       "      <td id=\"T_247ef_row26_col1\" class=\"data row26 col1\" >constant</td>\n",
       "    </tr>\n",
       "    <tr>\n",
       "      <th id=\"T_247ef_level0_row27\" class=\"row_heading level0 row27\" >27</th>\n",
       "      <td id=\"T_247ef_row27_col0\" class=\"data row27 col0\" >Iterative Imputation Categorical Model</td>\n",
       "      <td id=\"T_247ef_row27_col1\" class=\"data row27 col1\" >None</td>\n",
       "    </tr>\n",
       "    <tr>\n",
       "      <th id=\"T_247ef_level0_row28\" class=\"row_heading level0 row28\" >28</th>\n",
       "      <td id=\"T_247ef_row28_col0\" class=\"data row28 col0\" >Unknown Categoricals Handling</td>\n",
       "      <td id=\"T_247ef_row28_col1\" class=\"data row28 col1\" >least_frequent</td>\n",
       "    </tr>\n",
       "    <tr>\n",
       "      <th id=\"T_247ef_level0_row29\" class=\"row_heading level0 row29\" >29</th>\n",
       "      <td id=\"T_247ef_row29_col0\" class=\"data row29 col0\" >Normalize</td>\n",
       "      <td id=\"T_247ef_row29_col1\" class=\"data row29 col1\" >False</td>\n",
       "    </tr>\n",
       "    <tr>\n",
       "      <th id=\"T_247ef_level0_row30\" class=\"row_heading level0 row30\" >30</th>\n",
       "      <td id=\"T_247ef_row30_col0\" class=\"data row30 col0\" >Normalize Method</td>\n",
       "      <td id=\"T_247ef_row30_col1\" class=\"data row30 col1\" >None</td>\n",
       "    </tr>\n",
       "    <tr>\n",
       "      <th id=\"T_247ef_level0_row31\" class=\"row_heading level0 row31\" >31</th>\n",
       "      <td id=\"T_247ef_row31_col0\" class=\"data row31 col0\" >Transformation</td>\n",
       "      <td id=\"T_247ef_row31_col1\" class=\"data row31 col1\" >False</td>\n",
       "    </tr>\n",
       "    <tr>\n",
       "      <th id=\"T_247ef_level0_row32\" class=\"row_heading level0 row32\" >32</th>\n",
       "      <td id=\"T_247ef_row32_col0\" class=\"data row32 col0\" >Transformation Method</td>\n",
       "      <td id=\"T_247ef_row32_col1\" class=\"data row32 col1\" >None</td>\n",
       "    </tr>\n",
       "    <tr>\n",
       "      <th id=\"T_247ef_level0_row33\" class=\"row_heading level0 row33\" >33</th>\n",
       "      <td id=\"T_247ef_row33_col0\" class=\"data row33 col0\" >PCA</td>\n",
       "      <td id=\"T_247ef_row33_col1\" class=\"data row33 col1\" >False</td>\n",
       "    </tr>\n",
       "    <tr>\n",
       "      <th id=\"T_247ef_level0_row34\" class=\"row_heading level0 row34\" >34</th>\n",
       "      <td id=\"T_247ef_row34_col0\" class=\"data row34 col0\" >PCA Method</td>\n",
       "      <td id=\"T_247ef_row34_col1\" class=\"data row34 col1\" >None</td>\n",
       "    </tr>\n",
       "    <tr>\n",
       "      <th id=\"T_247ef_level0_row35\" class=\"row_heading level0 row35\" >35</th>\n",
       "      <td id=\"T_247ef_row35_col0\" class=\"data row35 col0\" >PCA Components</td>\n",
       "      <td id=\"T_247ef_row35_col1\" class=\"data row35 col1\" >None</td>\n",
       "    </tr>\n",
       "    <tr>\n",
       "      <th id=\"T_247ef_level0_row36\" class=\"row_heading level0 row36\" >36</th>\n",
       "      <td id=\"T_247ef_row36_col0\" class=\"data row36 col0\" >Ignore Low Variance</td>\n",
       "      <td id=\"T_247ef_row36_col1\" class=\"data row36 col1\" >False</td>\n",
       "    </tr>\n",
       "    <tr>\n",
       "      <th id=\"T_247ef_level0_row37\" class=\"row_heading level0 row37\" >37</th>\n",
       "      <td id=\"T_247ef_row37_col0\" class=\"data row37 col0\" >Combine Rare Levels</td>\n",
       "      <td id=\"T_247ef_row37_col1\" class=\"data row37 col1\" >False</td>\n",
       "    </tr>\n",
       "    <tr>\n",
       "      <th id=\"T_247ef_level0_row38\" class=\"row_heading level0 row38\" >38</th>\n",
       "      <td id=\"T_247ef_row38_col0\" class=\"data row38 col0\" >Rare Level Threshold</td>\n",
       "      <td id=\"T_247ef_row38_col1\" class=\"data row38 col1\" >None</td>\n",
       "    </tr>\n",
       "    <tr>\n",
       "      <th id=\"T_247ef_level0_row39\" class=\"row_heading level0 row39\" >39</th>\n",
       "      <td id=\"T_247ef_row39_col0\" class=\"data row39 col0\" >Numeric Binning</td>\n",
       "      <td id=\"T_247ef_row39_col1\" class=\"data row39 col1\" >False</td>\n",
       "    </tr>\n",
       "    <tr>\n",
       "      <th id=\"T_247ef_level0_row40\" class=\"row_heading level0 row40\" >40</th>\n",
       "      <td id=\"T_247ef_row40_col0\" class=\"data row40 col0\" >Remove Outliers</td>\n",
       "      <td id=\"T_247ef_row40_col1\" class=\"data row40 col1\" >False</td>\n",
       "    </tr>\n",
       "    <tr>\n",
       "      <th id=\"T_247ef_level0_row41\" class=\"row_heading level0 row41\" >41</th>\n",
       "      <td id=\"T_247ef_row41_col0\" class=\"data row41 col0\" >Outliers Threshold</td>\n",
       "      <td id=\"T_247ef_row41_col1\" class=\"data row41 col1\" >None</td>\n",
       "    </tr>\n",
       "    <tr>\n",
       "      <th id=\"T_247ef_level0_row42\" class=\"row_heading level0 row42\" >42</th>\n",
       "      <td id=\"T_247ef_row42_col0\" class=\"data row42 col0\" >Remove Multicollinearity</td>\n",
       "      <td id=\"T_247ef_row42_col1\" class=\"data row42 col1\" >False</td>\n",
       "    </tr>\n",
       "    <tr>\n",
       "      <th id=\"T_247ef_level0_row43\" class=\"row_heading level0 row43\" >43</th>\n",
       "      <td id=\"T_247ef_row43_col0\" class=\"data row43 col0\" >Multicollinearity Threshold</td>\n",
       "      <td id=\"T_247ef_row43_col1\" class=\"data row43 col1\" >None</td>\n",
       "    </tr>\n",
       "    <tr>\n",
       "      <th id=\"T_247ef_level0_row44\" class=\"row_heading level0 row44\" >44</th>\n",
       "      <td id=\"T_247ef_row44_col0\" class=\"data row44 col0\" >Remove Perfect Collinearity</td>\n",
       "      <td id=\"T_247ef_row44_col1\" class=\"data row44 col1\" >True</td>\n",
       "    </tr>\n",
       "    <tr>\n",
       "      <th id=\"T_247ef_level0_row45\" class=\"row_heading level0 row45\" >45</th>\n",
       "      <td id=\"T_247ef_row45_col0\" class=\"data row45 col0\" >Clustering</td>\n",
       "      <td id=\"T_247ef_row45_col1\" class=\"data row45 col1\" >False</td>\n",
       "    </tr>\n",
       "    <tr>\n",
       "      <th id=\"T_247ef_level0_row46\" class=\"row_heading level0 row46\" >46</th>\n",
       "      <td id=\"T_247ef_row46_col0\" class=\"data row46 col0\" >Clustering Iteration</td>\n",
       "      <td id=\"T_247ef_row46_col1\" class=\"data row46 col1\" >None</td>\n",
       "    </tr>\n",
       "    <tr>\n",
       "      <th id=\"T_247ef_level0_row47\" class=\"row_heading level0 row47\" >47</th>\n",
       "      <td id=\"T_247ef_row47_col0\" class=\"data row47 col0\" >Polynomial Features</td>\n",
       "      <td id=\"T_247ef_row47_col1\" class=\"data row47 col1\" >False</td>\n",
       "    </tr>\n",
       "    <tr>\n",
       "      <th id=\"T_247ef_level0_row48\" class=\"row_heading level0 row48\" >48</th>\n",
       "      <td id=\"T_247ef_row48_col0\" class=\"data row48 col0\" >Polynomial Degree</td>\n",
       "      <td id=\"T_247ef_row48_col1\" class=\"data row48 col1\" >None</td>\n",
       "    </tr>\n",
       "    <tr>\n",
       "      <th id=\"T_247ef_level0_row49\" class=\"row_heading level0 row49\" >49</th>\n",
       "      <td id=\"T_247ef_row49_col0\" class=\"data row49 col0\" >Trignometry Features</td>\n",
       "      <td id=\"T_247ef_row49_col1\" class=\"data row49 col1\" >False</td>\n",
       "    </tr>\n",
       "    <tr>\n",
       "      <th id=\"T_247ef_level0_row50\" class=\"row_heading level0 row50\" >50</th>\n",
       "      <td id=\"T_247ef_row50_col0\" class=\"data row50 col0\" >Polynomial Threshold</td>\n",
       "      <td id=\"T_247ef_row50_col1\" class=\"data row50 col1\" >None</td>\n",
       "    </tr>\n",
       "    <tr>\n",
       "      <th id=\"T_247ef_level0_row51\" class=\"row_heading level0 row51\" >51</th>\n",
       "      <td id=\"T_247ef_row51_col0\" class=\"data row51 col0\" >Group Features</td>\n",
       "      <td id=\"T_247ef_row51_col1\" class=\"data row51 col1\" >False</td>\n",
       "    </tr>\n",
       "    <tr>\n",
       "      <th id=\"T_247ef_level0_row52\" class=\"row_heading level0 row52\" >52</th>\n",
       "      <td id=\"T_247ef_row52_col0\" class=\"data row52 col0\" >Feature Selection</td>\n",
       "      <td id=\"T_247ef_row52_col1\" class=\"data row52 col1\" >False</td>\n",
       "    </tr>\n",
       "    <tr>\n",
       "      <th id=\"T_247ef_level0_row53\" class=\"row_heading level0 row53\" >53</th>\n",
       "      <td id=\"T_247ef_row53_col0\" class=\"data row53 col0\" >Feature Selection Method</td>\n",
       "      <td id=\"T_247ef_row53_col1\" class=\"data row53 col1\" >classic</td>\n",
       "    </tr>\n",
       "    <tr>\n",
       "      <th id=\"T_247ef_level0_row54\" class=\"row_heading level0 row54\" >54</th>\n",
       "      <td id=\"T_247ef_row54_col0\" class=\"data row54 col0\" >Features Selection Threshold</td>\n",
       "      <td id=\"T_247ef_row54_col1\" class=\"data row54 col1\" >None</td>\n",
       "    </tr>\n",
       "    <tr>\n",
       "      <th id=\"T_247ef_level0_row55\" class=\"row_heading level0 row55\" >55</th>\n",
       "      <td id=\"T_247ef_row55_col0\" class=\"data row55 col0\" >Feature Interaction</td>\n",
       "      <td id=\"T_247ef_row55_col1\" class=\"data row55 col1\" >False</td>\n",
       "    </tr>\n",
       "    <tr>\n",
       "      <th id=\"T_247ef_level0_row56\" class=\"row_heading level0 row56\" >56</th>\n",
       "      <td id=\"T_247ef_row56_col0\" class=\"data row56 col0\" >Feature Ratio</td>\n",
       "      <td id=\"T_247ef_row56_col1\" class=\"data row56 col1\" >False</td>\n",
       "    </tr>\n",
       "    <tr>\n",
       "      <th id=\"T_247ef_level0_row57\" class=\"row_heading level0 row57\" >57</th>\n",
       "      <td id=\"T_247ef_row57_col0\" class=\"data row57 col0\" >Interaction Threshold</td>\n",
       "      <td id=\"T_247ef_row57_col1\" class=\"data row57 col1\" >None</td>\n",
       "    </tr>\n",
       "    <tr>\n",
       "      <th id=\"T_247ef_level0_row58\" class=\"row_heading level0 row58\" >58</th>\n",
       "      <td id=\"T_247ef_row58_col0\" class=\"data row58 col0\" >Fix Imbalance</td>\n",
       "      <td id=\"T_247ef_row58_col1\" class=\"data row58 col1\" >True</td>\n",
       "    </tr>\n",
       "    <tr>\n",
       "      <th id=\"T_247ef_level0_row59\" class=\"row_heading level0 row59\" >59</th>\n",
       "      <td id=\"T_247ef_row59_col0\" class=\"data row59 col0\" >Fix Imbalance Method</td>\n",
       "      <td id=\"T_247ef_row59_col1\" class=\"data row59 col1\" >SMOTE</td>\n",
       "    </tr>\n",
       "  </tbody>\n",
       "</table>\n"
      ],
      "text/plain": [
       "<pandas.io.formats.style.Styler at 0x7f210a9d4b10>"
      ]
     },
     "metadata": {},
     "output_type": "display_data"
    }
   ],
   "source": [
    "clf = setup(\n",
    "    data = df, \n",
    "    target = 'loan_status', \n",
    "    silent=True, \n",
    "    log_experiment = True, \n",
    "    session_id=1, \n",
    "    fix_imbalance=True, \n",
    "    experiment_name = 'train'\n",
    ")"
   ]
  },
  {
   "cell_type": "code",
   "execution_count": 10,
   "id": "890715a4",
   "metadata": {
    "execution": {
     "iopub.execute_input": "2021-10-12T11:52:41.753043Z",
     "iopub.status.busy": "2021-10-12T11:52:41.752377Z",
     "iopub.status.idle": "2021-10-12T11:54:42.492066Z",
     "shell.execute_reply": "2021-10-12T11:54:42.491484Z",
     "shell.execute_reply.started": "2021-10-12T11:20:02.267914Z"
    },
    "id": "1hRW-YNRVzWh",
    "outputId": "863d2e3e-cb7b-4ba9-9557-0291ad0b66f5",
    "papermill": {
     "duration": 120.7861,
     "end_time": "2021-10-12T11:54:42.492229",
     "exception": false,
     "start_time": "2021-10-12T11:52:41.706129",
     "status": "completed"
    },
    "tags": []
   },
   "outputs": [
    {
     "data": {
      "text/html": [
       "<style type=\"text/css\">\n",
       "#T_3f5f8_ th {\n",
       "  text-align: left;\n",
       "}\n",
       "#T_3f5f8_row0_col0, #T_3f5f8_row0_col2, #T_3f5f8_row0_col4, #T_3f5f8_row0_col6, #T_3f5f8_row0_col7, #T_3f5f8_row1_col0, #T_3f5f8_row1_col1, #T_3f5f8_row1_col2, #T_3f5f8_row1_col3, #T_3f5f8_row1_col4, #T_3f5f8_row1_col5, #T_3f5f8_row1_col6, #T_3f5f8_row1_col7, #T_3f5f8_row2_col0, #T_3f5f8_row2_col1, #T_3f5f8_row2_col2, #T_3f5f8_row2_col3, #T_3f5f8_row2_col4, #T_3f5f8_row2_col5, #T_3f5f8_row2_col6, #T_3f5f8_row2_col7, #T_3f5f8_row3_col0, #T_3f5f8_row3_col1, #T_3f5f8_row3_col3, #T_3f5f8_row3_col4, #T_3f5f8_row3_col5, #T_3f5f8_row3_col6, #T_3f5f8_row3_col7, #T_3f5f8_row4_col0, #T_3f5f8_row4_col1, #T_3f5f8_row4_col2, #T_3f5f8_row4_col3, #T_3f5f8_row4_col4, #T_3f5f8_row4_col5, #T_3f5f8_row4_col6, #T_3f5f8_row4_col7, #T_3f5f8_row5_col0, #T_3f5f8_row5_col1, #T_3f5f8_row5_col2, #T_3f5f8_row5_col3, #T_3f5f8_row5_col4, #T_3f5f8_row5_col5, #T_3f5f8_row5_col6, #T_3f5f8_row5_col7, #T_3f5f8_row6_col0, #T_3f5f8_row6_col1, #T_3f5f8_row6_col2, #T_3f5f8_row6_col3, #T_3f5f8_row6_col4, #T_3f5f8_row6_col5, #T_3f5f8_row6_col6, #T_3f5f8_row6_col7, #T_3f5f8_row7_col0, #T_3f5f8_row7_col1, #T_3f5f8_row7_col2, #T_3f5f8_row7_col3, #T_3f5f8_row7_col5, #T_3f5f8_row8_col0, #T_3f5f8_row8_col1, #T_3f5f8_row8_col2, #T_3f5f8_row8_col3, #T_3f5f8_row8_col4, #T_3f5f8_row8_col5, #T_3f5f8_row8_col6, #T_3f5f8_row8_col7, #T_3f5f8_row9_col0, #T_3f5f8_row9_col1, #T_3f5f8_row9_col2, #T_3f5f8_row9_col3, #T_3f5f8_row9_col4, #T_3f5f8_row9_col5, #T_3f5f8_row9_col6, #T_3f5f8_row9_col7, #T_3f5f8_row10_col0, #T_3f5f8_row10_col1, #T_3f5f8_row10_col2, #T_3f5f8_row10_col3, #T_3f5f8_row10_col4, #T_3f5f8_row10_col5, #T_3f5f8_row10_col6, #T_3f5f8_row10_col7, #T_3f5f8_row11_col0, #T_3f5f8_row11_col1, #T_3f5f8_row11_col2, #T_3f5f8_row11_col3, #T_3f5f8_row11_col4, #T_3f5f8_row11_col5, #T_3f5f8_row11_col6, #T_3f5f8_row11_col7, #T_3f5f8_row12_col0, #T_3f5f8_row12_col1, #T_3f5f8_row12_col2, #T_3f5f8_row12_col3, #T_3f5f8_row12_col4, #T_3f5f8_row12_col5, #T_3f5f8_row12_col6, #T_3f5f8_row12_col7, #T_3f5f8_row13_col0, #T_3f5f8_row13_col1, #T_3f5f8_row13_col2, #T_3f5f8_row13_col3, #T_3f5f8_row13_col4, #T_3f5f8_row13_col5, #T_3f5f8_row13_col6, #T_3f5f8_row13_col7 {\n",
       "  text-align: left;\n",
       "}\n",
       "#T_3f5f8_row0_col1, #T_3f5f8_row0_col3, #T_3f5f8_row0_col5, #T_3f5f8_row3_col2, #T_3f5f8_row7_col4, #T_3f5f8_row7_col6, #T_3f5f8_row7_col7 {\n",
       "  text-align: left;\n",
       "  background-color: yellow;\n",
       "}\n",
       "#T_3f5f8_row0_col8, #T_3f5f8_row1_col8, #T_3f5f8_row2_col8, #T_3f5f8_row3_col8, #T_3f5f8_row4_col8, #T_3f5f8_row5_col8, #T_3f5f8_row6_col8, #T_3f5f8_row8_col8, #T_3f5f8_row9_col8, #T_3f5f8_row10_col8, #T_3f5f8_row11_col8, #T_3f5f8_row12_col8, #T_3f5f8_row13_col8 {\n",
       "  text-align: left;\n",
       "  background-color: lightgrey;\n",
       "}\n",
       "#T_3f5f8_row7_col8 {\n",
       "  text-align: left;\n",
       "  background-color: yellow;\n",
       "  background-color: lightgrey;\n",
       "}\n",
       "</style>\n",
       "<table id=\"T_3f5f8_\">\n",
       "  <thead>\n",
       "    <tr>\n",
       "      <th class=\"blank level0\" >&nbsp;</th>\n",
       "      <th class=\"col_heading level0 col0\" >Model</th>\n",
       "      <th class=\"col_heading level0 col1\" >Accuracy</th>\n",
       "      <th class=\"col_heading level0 col2\" >AUC</th>\n",
       "      <th class=\"col_heading level0 col3\" >Recall</th>\n",
       "      <th class=\"col_heading level0 col4\" >Prec.</th>\n",
       "      <th class=\"col_heading level0 col5\" >F1</th>\n",
       "      <th class=\"col_heading level0 col6\" >Kappa</th>\n",
       "      <th class=\"col_heading level0 col7\" >MCC</th>\n",
       "      <th class=\"col_heading level0 col8\" >TT (Sec)</th>\n",
       "    </tr>\n",
       "  </thead>\n",
       "  <tbody>\n",
       "    <tr>\n",
       "      <th id=\"T_3f5f8_level0_row0\" class=\"row_heading level0 row0\" >rf</th>\n",
       "      <td id=\"T_3f5f8_row0_col0\" class=\"data row0 col0\" >Random Forest Classifier</td>\n",
       "      <td id=\"T_3f5f8_row0_col1\" class=\"data row0 col1\" >0.8686</td>\n",
       "      <td id=\"T_3f5f8_row0_col2\" class=\"data row0 col2\" >0.6941</td>\n",
       "      <td id=\"T_3f5f8_row0_col3\" class=\"data row0 col3\" >0.9940</td>\n",
       "      <td id=\"T_3f5f8_row0_col4\" class=\"data row0 col4\" >0.8724</td>\n",
       "      <td id=\"T_3f5f8_row0_col5\" class=\"data row0 col5\" >0.9292</td>\n",
       "      <td id=\"T_3f5f8_row0_col6\" class=\"data row0 col6\" >0.0608</td>\n",
       "      <td id=\"T_3f5f8_row0_col7\" class=\"data row0 col7\" >0.1211</td>\n",
       "      <td id=\"T_3f5f8_row0_col8\" class=\"data row0 col8\" >1.9767</td>\n",
       "    </tr>\n",
       "    <tr>\n",
       "      <th id=\"T_3f5f8_level0_row1\" class=\"row_heading level0 row1\" >gbc</th>\n",
       "      <td id=\"T_3f5f8_row1_col0\" class=\"data row1 col0\" >Gradient Boosting Classifier</td>\n",
       "      <td id=\"T_3f5f8_row1_col1\" class=\"data row1 col1\" >0.8675</td>\n",
       "      <td id=\"T_3f5f8_row1_col2\" class=\"data row1 col2\" >0.7120</td>\n",
       "      <td id=\"T_3f5f8_row1_col3\" class=\"data row1 col3\" >0.9931</td>\n",
       "      <td id=\"T_3f5f8_row1_col4\" class=\"data row1 col4\" >0.8720</td>\n",
       "      <td id=\"T_3f5f8_row1_col5\" class=\"data row1 col5\" >0.9286</td>\n",
       "      <td id=\"T_3f5f8_row1_col6\" class=\"data row1 col6\" >0.0554</td>\n",
       "      <td id=\"T_3f5f8_row1_col7\" class=\"data row1 col7\" >0.1082</td>\n",
       "      <td id=\"T_3f5f8_row1_col8\" class=\"data row1 col8\" >5.0300</td>\n",
       "    </tr>\n",
       "    <tr>\n",
       "      <th id=\"T_3f5f8_level0_row2\" class=\"row_heading level0 row2\" >lightgbm</th>\n",
       "      <td id=\"T_3f5f8_row2_col0\" class=\"data row2 col0\" >Light Gradient Boosting Machine</td>\n",
       "      <td id=\"T_3f5f8_row2_col1\" class=\"data row2 col1\" >0.8680</td>\n",
       "      <td id=\"T_3f5f8_row2_col2\" class=\"data row2 col2\" >0.7217</td>\n",
       "      <td id=\"T_3f5f8_row2_col3\" class=\"data row2 col3\" >0.9895</td>\n",
       "      <td id=\"T_3f5f8_row2_col4\" class=\"data row2 col4\" >0.8749</td>\n",
       "      <td id=\"T_3f5f8_row2_col5\" class=\"data row2 col5\" >0.9286</td>\n",
       "      <td id=\"T_3f5f8_row2_col6\" class=\"data row2 col6\" >0.0921</td>\n",
       "      <td id=\"T_3f5f8_row2_col7\" class=\"data row2 col7\" >0.1488</td>\n",
       "      <td id=\"T_3f5f8_row2_col8\" class=\"data row2 col8\" >0.8633</td>\n",
       "    </tr>\n",
       "    <tr>\n",
       "      <th id=\"T_3f5f8_level0_row3\" class=\"row_heading level0 row3\" >catboost</th>\n",
       "      <td id=\"T_3f5f8_row3_col0\" class=\"data row3 col0\" >CatBoost Classifier</td>\n",
       "      <td id=\"T_3f5f8_row3_col1\" class=\"data row3 col1\" >0.8676</td>\n",
       "      <td id=\"T_3f5f8_row3_col2\" class=\"data row3 col2\" >0.7248</td>\n",
       "      <td id=\"T_3f5f8_row3_col3\" class=\"data row3 col3\" >0.9894</td>\n",
       "      <td id=\"T_3f5f8_row3_col4\" class=\"data row3 col4\" >0.8745</td>\n",
       "      <td id=\"T_3f5f8_row3_col5\" class=\"data row3 col5\" >0.9284</td>\n",
       "      <td id=\"T_3f5f8_row3_col6\" class=\"data row3 col6\" >0.0873</td>\n",
       "      <td id=\"T_3f5f8_row3_col7\" class=\"data row3 col7\" >0.1419</td>\n",
       "      <td id=\"T_3f5f8_row3_col8\" class=\"data row3 col8\" >20.6033</td>\n",
       "    </tr>\n",
       "    <tr>\n",
       "      <th id=\"T_3f5f8_level0_row4\" class=\"row_heading level0 row4\" >et</th>\n",
       "      <td id=\"T_3f5f8_row4_col0\" class=\"data row4 col0\" >Extra Trees Classifier</td>\n",
       "      <td id=\"T_3f5f8_row4_col1\" class=\"data row4 col1\" >0.8659</td>\n",
       "      <td id=\"T_3f5f8_row4_col2\" class=\"data row4 col2\" >0.6731</td>\n",
       "      <td id=\"T_3f5f8_row4_col3\" class=\"data row4 col3\" >0.9896</td>\n",
       "      <td id=\"T_3f5f8_row4_col4\" class=\"data row4 col4\" >0.8730</td>\n",
       "      <td id=\"T_3f5f8_row4_col5\" class=\"data row4 col5\" >0.9276</td>\n",
       "      <td id=\"T_3f5f8_row4_col6\" class=\"data row4 col6\" >0.0664</td>\n",
       "      <td id=\"T_3f5f8_row4_col7\" class=\"data row4 col7\" >0.1107</td>\n",
       "      <td id=\"T_3f5f8_row4_col8\" class=\"data row4 col8\" >1.8333</td>\n",
       "    </tr>\n",
       "    <tr>\n",
       "      <th id=\"T_3f5f8_level0_row5\" class=\"row_heading level0 row5\" >ada</th>\n",
       "      <td id=\"T_3f5f8_row5_col0\" class=\"data row5 col0\" >Ada Boost Classifier</td>\n",
       "      <td id=\"T_3f5f8_row5_col1\" class=\"data row5 col1\" >0.8626</td>\n",
       "      <td id=\"T_3f5f8_row5_col2\" class=\"data row5 col2\" >0.6950</td>\n",
       "      <td id=\"T_3f5f8_row5_col3\" class=\"data row5 col3\" >0.9838</td>\n",
       "      <td id=\"T_3f5f8_row5_col4\" class=\"data row5 col4\" >0.8739</td>\n",
       "      <td id=\"T_3f5f8_row5_col5\" class=\"data row5 col5\" >0.9255</td>\n",
       "      <td id=\"T_3f5f8_row5_col6\" class=\"data row5 col6\" >0.0747</td>\n",
       "      <td id=\"T_3f5f8_row5_col7\" class=\"data row5 col7\" >0.1089</td>\n",
       "      <td id=\"T_3f5f8_row5_col8\" class=\"data row5 col8\" >1.1967</td>\n",
       "    </tr>\n",
       "    <tr>\n",
       "      <th id=\"T_3f5f8_level0_row6\" class=\"row_heading level0 row6\" >dt</th>\n",
       "      <td id=\"T_3f5f8_row6_col0\" class=\"data row6 col0\" >Decision Tree Classifier</td>\n",
       "      <td id=\"T_3f5f8_row6_col1\" class=\"data row6 col1\" >0.7784</td>\n",
       "      <td id=\"T_3f5f8_row6_col2\" class=\"data row6 col2\" >0.5520</td>\n",
       "      <td id=\"T_3f5f8_row6_col3\" class=\"data row6 col3\" >0.8596</td>\n",
       "      <td id=\"T_3f5f8_row6_col4\" class=\"data row6 col4\" >0.8822</td>\n",
       "      <td id=\"T_3f5f8_row6_col5\" class=\"data row6 col5\" >0.8707</td>\n",
       "      <td id=\"T_3f5f8_row6_col6\" class=\"data row6 col6\" >0.0966</td>\n",
       "      <td id=\"T_3f5f8_row6_col7\" class=\"data row6 col7\" >0.0971</td>\n",
       "      <td id=\"T_3f5f8_row6_col8\" class=\"data row6 col8\" >0.2633</td>\n",
       "    </tr>\n",
       "    <tr>\n",
       "      <th id=\"T_3f5f8_level0_row7\" class=\"row_heading level0 row7\" >ridge</th>\n",
       "      <td id=\"T_3f5f8_row7_col0\" class=\"data row7 col0\" >Ridge Classifier</td>\n",
       "      <td id=\"T_3f5f8_row7_col1\" class=\"data row7 col1\" >0.6708</td>\n",
       "      <td id=\"T_3f5f8_row7_col2\" class=\"data row7 col2\" >0.0000</td>\n",
       "      <td id=\"T_3f5f8_row7_col3\" class=\"data row7 col3\" >0.6770</td>\n",
       "      <td id=\"T_3f5f8_row7_col4\" class=\"data row7 col4\" >0.9233</td>\n",
       "      <td id=\"T_3f5f8_row7_col5\" class=\"data row7 col5\" >0.7812</td>\n",
       "      <td id=\"T_3f5f8_row7_col6\" class=\"data row7 col6\" >0.1759</td>\n",
       "      <td id=\"T_3f5f8_row7_col7\" class=\"data row7 col7\" >0.2159</td>\n",
       "      <td id=\"T_3f5f8_row7_col8\" class=\"data row7 col8\" >0.1067</td>\n",
       "    </tr>\n",
       "    <tr>\n",
       "      <th id=\"T_3f5f8_level0_row8\" class=\"row_heading level0 row8\" >lda</th>\n",
       "      <td id=\"T_3f5f8_row8_col0\" class=\"data row8 col0\" >Linear Discriminant Analysis</td>\n",
       "      <td id=\"T_3f5f8_row8_col1\" class=\"data row8 col1\" >0.6706</td>\n",
       "      <td id=\"T_3f5f8_row8_col2\" class=\"data row8 col2\" >0.7109</td>\n",
       "      <td id=\"T_3f5f8_row8_col3\" class=\"data row8 col3\" >0.6769</td>\n",
       "      <td id=\"T_3f5f8_row8_col4\" class=\"data row8 col4\" >0.9232</td>\n",
       "      <td id=\"T_3f5f8_row8_col5\" class=\"data row8 col5\" >0.7811</td>\n",
       "      <td id=\"T_3f5f8_row8_col6\" class=\"data row8 col6\" >0.1756</td>\n",
       "      <td id=\"T_3f5f8_row8_col7\" class=\"data row8 col7\" >0.2156</td>\n",
       "      <td id=\"T_3f5f8_row8_col8\" class=\"data row8 col8\" >0.2167</td>\n",
       "    </tr>\n",
       "    <tr>\n",
       "      <th id=\"T_3f5f8_level0_row9\" class=\"row_heading level0 row9\" >nb</th>\n",
       "      <td id=\"T_3f5f8_row9_col0\" class=\"data row9 col0\" >Naive Bayes</td>\n",
       "      <td id=\"T_3f5f8_row9_col1\" class=\"data row9 col1\" >0.6616</td>\n",
       "      <td id=\"T_3f5f8_row9_col2\" class=\"data row9 col2\" >0.6758</td>\n",
       "      <td id=\"T_3f5f8_row9_col3\" class=\"data row9 col3\" >0.6760</td>\n",
       "      <td id=\"T_3f5f8_row9_col4\" class=\"data row9 col4\" >0.9124</td>\n",
       "      <td id=\"T_3f5f8_row9_col5\" class=\"data row9 col5\" >0.7735</td>\n",
       "      <td id=\"T_3f5f8_row9_col6\" class=\"data row9 col6\" >0.1427</td>\n",
       "      <td id=\"T_3f5f8_row9_col7\" class=\"data row9 col7\" >0.1740</td>\n",
       "      <td id=\"T_3f5f8_row9_col8\" class=\"data row9 col8\" >0.1133</td>\n",
       "    </tr>\n",
       "    <tr>\n",
       "      <th id=\"T_3f5f8_level0_row10\" class=\"row_heading level0 row10\" >knn</th>\n",
       "      <td id=\"T_3f5f8_row10_col0\" class=\"data row10 col0\" >K Neighbors Classifier</td>\n",
       "      <td id=\"T_3f5f8_row10_col1\" class=\"data row10 col1\" >0.6184</td>\n",
       "      <td id=\"T_3f5f8_row10_col2\" class=\"data row10 col2\" >0.5249</td>\n",
       "      <td id=\"T_3f5f8_row10_col3\" class=\"data row10 col3\" >0.6553</td>\n",
       "      <td id=\"T_3f5f8_row10_col4\" class=\"data row10 col4\" >0.8735</td>\n",
       "      <td id=\"T_3f5f8_row10_col5\" class=\"data row10 col5\" >0.7488</td>\n",
       "      <td id=\"T_3f5f8_row10_col6\" class=\"data row10 col6\" >0.0184</td>\n",
       "      <td id=\"T_3f5f8_row10_col7\" class=\"data row10 col7\" >0.0221</td>\n",
       "      <td id=\"T_3f5f8_row10_col8\" class=\"data row10 col8\" >1.3167</td>\n",
       "    </tr>\n",
       "    <tr>\n",
       "      <th id=\"T_3f5f8_level0_row11\" class=\"row_heading level0 row11\" >lr</th>\n",
       "      <td id=\"T_3f5f8_row11_col0\" class=\"data row11 col0\" >Logistic Regression</td>\n",
       "      <td id=\"T_3f5f8_row11_col1\" class=\"data row11 col1\" >0.5416</td>\n",
       "      <td id=\"T_3f5f8_row11_col2\" class=\"data row11 col2\" >0.6529</td>\n",
       "      <td id=\"T_3f5f8_row11_col3\" class=\"data row11 col3\" >0.5190</td>\n",
       "      <td id=\"T_3f5f8_row11_col4\" class=\"data row11 col4\" >0.9170</td>\n",
       "      <td id=\"T_3f5f8_row11_col5\" class=\"data row11 col5\" >0.6627</td>\n",
       "      <td id=\"T_3f5f8_row11_col6\" class=\"data row11 col6\" >0.0949</td>\n",
       "      <td id=\"T_3f5f8_row11_col7\" class=\"data row11 col7\" >0.1421</td>\n",
       "      <td id=\"T_3f5f8_row11_col8\" class=\"data row11 col8\" >1.4933</td>\n",
       "    </tr>\n",
       "    <tr>\n",
       "      <th id=\"T_3f5f8_level0_row12\" class=\"row_heading level0 row12\" >svm</th>\n",
       "      <td id=\"T_3f5f8_row12_col0\" class=\"data row12 col0\" >SVM - Linear Kernel</td>\n",
       "      <td id=\"T_3f5f8_row12_col1\" class=\"data row12 col1\" >0.3574</td>\n",
       "      <td id=\"T_3f5f8_row12_col2\" class=\"data row12 col2\" >0.0000</td>\n",
       "      <td id=\"T_3f5f8_row12_col3\" class=\"data row12 col3\" >0.2951</td>\n",
       "      <td id=\"T_3f5f8_row12_col4\" class=\"data row12 col4\" >0.8822</td>\n",
       "      <td id=\"T_3f5f8_row12_col5\" class=\"data row12 col5\" >0.3866</td>\n",
       "      <td id=\"T_3f5f8_row12_col6\" class=\"data row12 col6\" >0.0283</td>\n",
       "      <td id=\"T_3f5f8_row12_col7\" class=\"data row12 col7\" >0.0437</td>\n",
       "      <td id=\"T_3f5f8_row12_col8\" class=\"data row12 col8\" >0.4233</td>\n",
       "    </tr>\n",
       "    <tr>\n",
       "      <th id=\"T_3f5f8_level0_row13\" class=\"row_heading level0 row13\" >qda</th>\n",
       "      <td id=\"T_3f5f8_row13_col0\" class=\"data row13 col0\" >Quadratic Discriminant Analysis</td>\n",
       "      <td id=\"T_3f5f8_row13_col1\" class=\"data row13 col1\" >0.1348</td>\n",
       "      <td id=\"T_3f5f8_row13_col2\" class=\"data row13 col2\" >0.4988</td>\n",
       "      <td id=\"T_3f5f8_row13_col3\" class=\"data row13 col3\" >0.0043</td>\n",
       "      <td id=\"T_3f5f8_row13_col4\" class=\"data row13 col4\" >0.2711</td>\n",
       "      <td id=\"T_3f5f8_row13_col5\" class=\"data row13 col5\" >0.0085</td>\n",
       "      <td id=\"T_3f5f8_row13_col6\" class=\"data row13 col6\" >-0.0006</td>\n",
       "      <td id=\"T_3f5f8_row13_col7\" class=\"data row13 col7\" >-0.0064</td>\n",
       "      <td id=\"T_3f5f8_row13_col8\" class=\"data row13 col8\" >0.1467</td>\n",
       "    </tr>\n",
       "  </tbody>\n",
       "</table>\n"
      ],
      "text/plain": [
       "<pandas.io.formats.style.Styler at 0x7f210ae74fd0>"
      ]
     },
     "metadata": {},
     "output_type": "display_data"
    }
   ],
   "source": [
    "bestModel = compare_models(sort = 'F1', fold = 3)"
   ]
  },
  {
   "cell_type": "code",
   "execution_count": 11,
   "id": "fb69010e",
   "metadata": {
    "execution": {
     "iopub.execute_input": "2021-10-12T11:54:42.584572Z",
     "iopub.status.busy": "2021-10-12T11:54:42.583792Z",
     "iopub.status.idle": "2021-10-12T11:54:42.588037Z",
     "shell.execute_reply": "2021-10-12T11:54:42.587339Z",
     "shell.execute_reply.started": "2021-10-12T11:21:47.961088Z"
    },
    "id": "jyOx3HwrVzWk",
    "outputId": "be8843a6-d2f4-4184-c822-638c000b8c28",
    "papermill": {
     "duration": 0.054475,
     "end_time": "2021-10-12T11:54:42.588193",
     "exception": false,
     "start_time": "2021-10-12T11:54:42.533718",
     "status": "completed"
    },
    "tags": []
   },
   "outputs": [
    {
     "data": {
      "text/plain": [
       "RandomForestClassifier(bootstrap=True, ccp_alpha=0.0, class_weight=None,\n",
       "                       criterion='gini', max_depth=None, max_features='auto',\n",
       "                       max_leaf_nodes=None, max_samples=None,\n",
       "                       min_impurity_decrease=0.0, min_impurity_split=None,\n",
       "                       min_samples_leaf=1, min_samples_split=2,\n",
       "                       min_weight_fraction_leaf=0.0, n_estimators=100,\n",
       "                       n_jobs=-1, oob_score=False, random_state=1, verbose=0,\n",
       "                       warm_start=False)"
      ]
     },
     "execution_count": 11,
     "metadata": {},
     "output_type": "execute_result"
    }
   ],
   "source": [
    "bestModel"
   ]
  },
  {
   "cell_type": "code",
   "execution_count": 12,
   "id": "3e7c3f38",
   "metadata": {
    "execution": {
     "iopub.execute_input": "2021-10-12T11:54:42.688435Z",
     "iopub.status.busy": "2021-10-12T11:54:42.678834Z",
     "iopub.status.idle": "2021-10-12T11:58:05.181144Z",
     "shell.execute_reply": "2021-10-12T11:58:05.181739Z",
     "shell.execute_reply.started": "2021-10-12T11:21:47.970608Z"
    },
    "id": "vIi8ZsYsVzWn",
    "outputId": "0d3b274d-b133-4d52-c4a8-1ffa11fbd3b9",
    "papermill": {
     "duration": 202.55184,
     "end_time": "2021-10-12T11:58:05.181931",
     "exception": false,
     "start_time": "2021-10-12T11:54:42.630091",
     "status": "completed"
    },
    "tags": []
   },
   "outputs": [
    {
     "data": {
      "text/html": [
       "<style type=\"text/css\">\n",
       "#T_edcf5_row10_col0, #T_edcf5_row10_col1, #T_edcf5_row10_col2, #T_edcf5_row10_col3, #T_edcf5_row10_col4, #T_edcf5_row10_col5, #T_edcf5_row10_col6 {\n",
       "  background: yellow;\n",
       "}\n",
       "</style>\n",
       "<table id=\"T_edcf5_\">\n",
       "  <thead>\n",
       "    <tr>\n",
       "      <th class=\"blank level0\" >&nbsp;</th>\n",
       "      <th class=\"col_heading level0 col0\" >Accuracy</th>\n",
       "      <th class=\"col_heading level0 col1\" >AUC</th>\n",
       "      <th class=\"col_heading level0 col2\" >Recall</th>\n",
       "      <th class=\"col_heading level0 col3\" >Prec.</th>\n",
       "      <th class=\"col_heading level0 col4\" >F1</th>\n",
       "      <th class=\"col_heading level0 col5\" >Kappa</th>\n",
       "      <th class=\"col_heading level0 col6\" >MCC</th>\n",
       "    </tr>\n",
       "  </thead>\n",
       "  <tbody>\n",
       "    <tr>\n",
       "      <th id=\"T_edcf5_level0_row0\" class=\"row_heading level0 row0\" >0</th>\n",
       "      <td id=\"T_edcf5_row0_col0\" class=\"data row0 col0\" >0.8546</td>\n",
       "      <td id=\"T_edcf5_row0_col1\" class=\"data row0 col1\" >0.6932</td>\n",
       "      <td id=\"T_edcf5_row0_col2\" class=\"data row0 col2\" >0.9572</td>\n",
       "      <td id=\"T_edcf5_row0_col3\" class=\"data row0 col3\" >0.8847</td>\n",
       "      <td id=\"T_edcf5_row0_col4\" class=\"data row0 col4\" >0.9195</td>\n",
       "      <td id=\"T_edcf5_row0_col5\" class=\"data row0 col5\" >0.1788</td>\n",
       "      <td id=\"T_edcf5_row0_col6\" class=\"data row0 col6\" >0.1953</td>\n",
       "    </tr>\n",
       "    <tr>\n",
       "      <th id=\"T_edcf5_level0_row1\" class=\"row_heading level0 row1\" >1</th>\n",
       "      <td id=\"T_edcf5_row1_col0\" class=\"data row1 col0\" >0.8332</td>\n",
       "      <td id=\"T_edcf5_row1_col1\" class=\"data row1 col1\" >0.6614</td>\n",
       "      <td id=\"T_edcf5_row1_col2\" class=\"data row1 col2\" >0.9315</td>\n",
       "      <td id=\"T_edcf5_row1_col3\" class=\"data row1 col3\" >0.8828</td>\n",
       "      <td id=\"T_edcf5_row1_col4\" class=\"data row1 col4\" >0.9065</td>\n",
       "      <td id=\"T_edcf5_row1_col5\" class=\"data row1 col5\" >0.1380</td>\n",
       "      <td id=\"T_edcf5_row1_col6\" class=\"data row1 col6\" >0.1424</td>\n",
       "    </tr>\n",
       "    <tr>\n",
       "      <th id=\"T_edcf5_level0_row2\" class=\"row_heading level0 row2\" >2</th>\n",
       "      <td id=\"T_edcf5_row2_col0\" class=\"data row2 col0\" >0.8474</td>\n",
       "      <td id=\"T_edcf5_row2_col1\" class=\"data row2 col1\" >0.7004</td>\n",
       "      <td id=\"T_edcf5_row2_col2\" class=\"data row2 col2\" >0.9490</td>\n",
       "      <td id=\"T_edcf5_row2_col3\" class=\"data row2 col3\" >0.8838</td>\n",
       "      <td id=\"T_edcf5_row2_col4\" class=\"data row2 col4\" >0.9153</td>\n",
       "      <td id=\"T_edcf5_row2_col5\" class=\"data row2 col5\" >0.1596</td>\n",
       "      <td id=\"T_edcf5_row2_col6\" class=\"data row2 col6\" >0.1705</td>\n",
       "    </tr>\n",
       "    <tr>\n",
       "      <th id=\"T_edcf5_level0_row3\" class=\"row_heading level0 row3\" >3</th>\n",
       "      <td id=\"T_edcf5_row3_col0\" class=\"data row3 col0\" >0.8413</td>\n",
       "      <td id=\"T_edcf5_row3_col1\" class=\"data row3 col1\" >0.6713</td>\n",
       "      <td id=\"T_edcf5_row3_col2\" class=\"data row3 col2\" >0.9449</td>\n",
       "      <td id=\"T_edcf5_row3_col3\" class=\"data row3 col3\" >0.8809</td>\n",
       "      <td id=\"T_edcf5_row3_col4\" class=\"data row3 col4\" >0.9118</td>\n",
       "      <td id=\"T_edcf5_row3_col5\" class=\"data row3 col5\" >0.1295</td>\n",
       "      <td id=\"T_edcf5_row3_col6\" class=\"data row3 col6\" >0.1381</td>\n",
       "    </tr>\n",
       "    <tr>\n",
       "      <th id=\"T_edcf5_level0_row4\" class=\"row_heading level0 row4\" >4</th>\n",
       "      <td id=\"T_edcf5_row4_col0\" class=\"data row4 col0\" >0.8489</td>\n",
       "      <td id=\"T_edcf5_row4_col1\" class=\"data row4 col1\" >0.7060</td>\n",
       "      <td id=\"T_edcf5_row4_col2\" class=\"data row4 col2\" >0.9514</td>\n",
       "      <td id=\"T_edcf5_row4_col3\" class=\"data row4 col3\" >0.8836</td>\n",
       "      <td id=\"T_edcf5_row4_col4\" class=\"data row4 col4\" >0.9162</td>\n",
       "      <td id=\"T_edcf5_row4_col5\" class=\"data row4 col5\" >0.1593</td>\n",
       "      <td id=\"T_edcf5_row4_col6\" class=\"data row4 col6\" >0.1715</td>\n",
       "    </tr>\n",
       "    <tr>\n",
       "      <th id=\"T_edcf5_level0_row5\" class=\"row_heading level0 row5\" >5</th>\n",
       "      <td id=\"T_edcf5_row5_col0\" class=\"data row5 col0\" >0.8352</td>\n",
       "      <td id=\"T_edcf5_row5_col1\" class=\"data row5 col1\" >0.6772</td>\n",
       "      <td id=\"T_edcf5_row5_col2\" class=\"data row5 col2\" >0.9443</td>\n",
       "      <td id=\"T_edcf5_row5_col3\" class=\"data row5 col3\" >0.8756</td>\n",
       "      <td id=\"T_edcf5_row5_col4\" class=\"data row5 col4\" >0.9087</td>\n",
       "      <td id=\"T_edcf5_row5_col5\" class=\"data row5 col5\" >0.0771</td>\n",
       "      <td id=\"T_edcf5_row5_col6\" class=\"data row5 col6\" >0.0834</td>\n",
       "    </tr>\n",
       "    <tr>\n",
       "      <th id=\"T_edcf5_level0_row6\" class=\"row_heading level0 row6\" >6</th>\n",
       "      <td id=\"T_edcf5_row6_col0\" class=\"data row6 col0\" >0.8296</td>\n",
       "      <td id=\"T_edcf5_row6_col1\" class=\"data row6 col1\" >0.6687</td>\n",
       "      <td id=\"T_edcf5_row6_col2\" class=\"data row6 col2\" >0.9338</td>\n",
       "      <td id=\"T_edcf5_row6_col3\" class=\"data row6 col3\" >0.8778</td>\n",
       "      <td id=\"T_edcf5_row6_col4\" class=\"data row6 col4\" >0.9049</td>\n",
       "      <td id=\"T_edcf5_row6_col5\" class=\"data row6 col5\" >0.0933</td>\n",
       "      <td id=\"T_edcf5_row6_col6\" class=\"data row6 col6\" >0.0977</td>\n",
       "    </tr>\n",
       "    <tr>\n",
       "      <th id=\"T_edcf5_level0_row7\" class=\"row_heading level0 row7\" >7</th>\n",
       "      <td id=\"T_edcf5_row7_col0\" class=\"data row7 col0\" >0.8413</td>\n",
       "      <td id=\"T_edcf5_row7_col1\" class=\"data row7 col1\" >0.6588</td>\n",
       "      <td id=\"T_edcf5_row7_col2\" class=\"data row7 col2\" >0.9508</td>\n",
       "      <td id=\"T_edcf5_row7_col3\" class=\"data row7 col3\" >0.8768</td>\n",
       "      <td id=\"T_edcf5_row7_col4\" class=\"data row7 col4\" >0.9123</td>\n",
       "      <td id=\"T_edcf5_row7_col5\" class=\"data row7 col5\" >0.0965</td>\n",
       "      <td id=\"T_edcf5_row7_col6\" class=\"data row7 col6\" >0.1062</td>\n",
       "    </tr>\n",
       "    <tr>\n",
       "      <th id=\"T_edcf5_level0_row8\" class=\"row_heading level0 row8\" >8</th>\n",
       "      <td id=\"T_edcf5_row8_col0\" class=\"data row8 col0\" >0.8454</td>\n",
       "      <td id=\"T_edcf5_row8_col1\" class=\"data row8 col1\" >0.6357</td>\n",
       "      <td id=\"T_edcf5_row8_col2\" class=\"data row8 col2\" >0.9596</td>\n",
       "      <td id=\"T_edcf5_row8_col3\" class=\"data row8 col3\" >0.8745</td>\n",
       "      <td id=\"T_edcf5_row8_col4\" class=\"data row8 col4\" >0.9150</td>\n",
       "      <td id=\"T_edcf5_row8_col5\" class=\"data row8 col5\" >0.0764</td>\n",
       "      <td id=\"T_edcf5_row8_col6\" class=\"data row8 col6\" >0.0884</td>\n",
       "    </tr>\n",
       "    <tr>\n",
       "      <th id=\"T_edcf5_level0_row9\" class=\"row_heading level0 row9\" >9</th>\n",
       "      <td id=\"T_edcf5_row9_col0\" class=\"data row9 col0\" >0.8454</td>\n",
       "      <td id=\"T_edcf5_row9_col1\" class=\"data row9 col1\" >0.6699</td>\n",
       "      <td id=\"T_edcf5_row9_col2\" class=\"data row9 col2\" >0.9490</td>\n",
       "      <td id=\"T_edcf5_row9_col3\" class=\"data row9 col3\" >0.8818</td>\n",
       "      <td id=\"T_edcf5_row9_col4\" class=\"data row9 col4\" >0.9142</td>\n",
       "      <td id=\"T_edcf5_row9_col5\" class=\"data row9 col5\" >0.1451</td>\n",
       "      <td id=\"T_edcf5_row9_col6\" class=\"data row9 col6\" >0.1559</td>\n",
       "    </tr>\n",
       "    <tr>\n",
       "      <th id=\"T_edcf5_level0_row10\" class=\"row_heading level0 row10\" >Mean</th>\n",
       "      <td id=\"T_edcf5_row10_col0\" class=\"data row10 col0\" >0.8422</td>\n",
       "      <td id=\"T_edcf5_row10_col1\" class=\"data row10 col1\" >0.6743</td>\n",
       "      <td id=\"T_edcf5_row10_col2\" class=\"data row10 col2\" >0.9472</td>\n",
       "      <td id=\"T_edcf5_row10_col3\" class=\"data row10 col3\" >0.8802</td>\n",
       "      <td id=\"T_edcf5_row10_col4\" class=\"data row10 col4\" >0.9124</td>\n",
       "      <td id=\"T_edcf5_row10_col5\" class=\"data row10 col5\" >0.1254</td>\n",
       "      <td id=\"T_edcf5_row10_col6\" class=\"data row10 col6\" >0.1349</td>\n",
       "    </tr>\n",
       "    <tr>\n",
       "      <th id=\"T_edcf5_level0_row11\" class=\"row_heading level0 row11\" >SD</th>\n",
       "      <td id=\"T_edcf5_row11_col0\" class=\"data row11 col0\" >0.0073</td>\n",
       "      <td id=\"T_edcf5_row11_col1\" class=\"data row11 col1\" >0.0200</td>\n",
       "      <td id=\"T_edcf5_row11_col2\" class=\"data row11 col2\" >0.0085</td>\n",
       "      <td id=\"T_edcf5_row11_col3\" class=\"data row11 col3\" >0.0036</td>\n",
       "      <td id=\"T_edcf5_row11_col4\" class=\"data row11 col4\" >0.0043</td>\n",
       "      <td id=\"T_edcf5_row11_col5\" class=\"data row11 col5\" >0.0351</td>\n",
       "      <td id=\"T_edcf5_row11_col6\" class=\"data row11 col6\" >0.0371</td>\n",
       "    </tr>\n",
       "  </tbody>\n",
       "</table>\n"
      ],
      "text/plain": [
       "<pandas.io.formats.style.Styler at 0x7f210a9c1ad0>"
      ]
     },
     "metadata": {},
     "output_type": "display_data"
    }
   ],
   "source": [
    "bestModel = tune_model(bestModel, optimize = 'F1', fold = 10)"
   ]
  },
  {
   "cell_type": "markdown",
   "id": "2c6b3bd5",
   "metadata": {
    "papermill": {
     "duration": 0.042359,
     "end_time": "2021-10-12T11:58:05.267949",
     "exception": false,
     "start_time": "2021-10-12T11:58:05.225590",
     "status": "completed"
    },
    "tags": []
   },
   "source": [
    "### SHAP (SHapley Additive exPlanations) "
   ]
  },
  {
   "cell_type": "code",
   "execution_count": 13,
   "id": "1af2dd69",
   "metadata": {
    "execution": {
     "iopub.execute_input": "2021-10-12T11:58:05.360081Z",
     "iopub.status.busy": "2021-10-12T11:58:05.359360Z",
     "iopub.status.idle": "2021-10-12T11:58:17.219982Z",
     "shell.execute_reply": "2021-10-12T11:58:17.220500Z",
     "shell.execute_reply.started": "2021-10-12T11:47:22.187565Z"
    },
    "papermill": {
     "duration": 11.909801,
     "end_time": "2021-10-12T11:58:17.220725",
     "exception": false,
     "start_time": "2021-10-12T11:58:05.310924",
     "status": "completed"
    },
    "tags": []
   },
   "outputs": [
    {
     "name": "stderr",
     "output_type": "stream",
     "text": [
      "2021-10-12 11:58:07.303222: W tensorflow/stream_executor/platform/default/dso_loader.cc:60] Could not load dynamic library 'libcudart.so.11.0'; dlerror: libcudart.so.11.0: cannot open shared object file: No such file or directory; LD_LIBRARY_PATH: /opt/conda/lib\n",
      "2021-10-12 11:58:07.303362: I tensorflow/stream_executor/cuda/cudart_stub.cc:29] Ignore above cudart dlerror if you do not have a GPU set up on your machine.\n"
     ]
    },
    {
     "data": {
      "image/png": "[encoded data removed]",
      "text/plain": [
       "<Figure size 576x684 with 2 Axes>"
      ]
     },
     "metadata": {
      "needs_background": "light"
     },
     "output_type": "display_data"
    }
   ],
   "source": [
    "interpret_model(bestModel)"
   ]
  },
  {
   "cell_type": "markdown",
   "id": "cb05f820",
   "metadata": {
    "papermill": {
     "duration": 0.056773,
     "end_time": "2021-10-12T11:58:17.324712",
     "exception": false,
     "start_time": "2021-10-12T11:58:17.267939",
     "status": "completed"
    },
    "tags": []
   },
   "source": [
    "### Evaluate Model"
   ]
  },
  {
   "cell_type": "code",
   "execution_count": 14,
   "id": "404ea7d1",
   "metadata": {
    "execution": {
     "iopub.execute_input": "2021-10-12T11:58:17.439864Z",
     "iopub.status.busy": "2021-10-12T11:58:17.433375Z",
     "iopub.status.idle": "2021-10-12T11:58:18.262555Z",
     "shell.execute_reply": "2021-10-12T11:58:18.261847Z",
     "shell.execute_reply.started": "2021-10-12T11:24:56.067351Z"
    },
    "id": "DjjeiJxnVzWr",
    "outputId": "d1e7a928-2deb-4fce-8736-0741c28807e4",
    "papermill": {
     "duration": 0.890336,
     "end_time": "2021-10-12T11:58:18.262775",
     "exception": false,
     "start_time": "2021-10-12T11:58:17.372439",
     "status": "completed"
    },
    "tags": []
   },
   "outputs": [
    {
     "data": {
      "application/vnd.jupyter.widget-view+json": {
       "model_id": "8c1b76e284294b65a0e92761489be62e",
       "version_major": 2,
       "version_minor": 0
      },
      "text/plain": [
       "interactive(children=(ToggleButtons(description='Plot Type:', icons=('',), options=(('Hyperparameters', 'param…"
      ]
     },
     "metadata": {},
     "output_type": "display_data"
    }
   ],
   "source": [
    "evaluate_model(bestModel)"
   ]
  },
  {
   "cell_type": "markdown",
   "id": "1b76d5f6",
   "metadata": {
    "papermill": {
     "duration": 0.046364,
     "end_time": "2021-10-12T11:58:18.359359",
     "exception": false,
     "start_time": "2021-10-12T11:58:18.312995",
     "status": "completed"
    },
    "tags": []
   },
   "source": [
    "#### Area Under the Curve"
   ]
  },
  {
   "cell_type": "code",
   "execution_count": 15,
   "id": "7c0b0e37",
   "metadata": {
    "execution": {
     "iopub.execute_input": "2021-10-12T11:58:18.481001Z",
     "iopub.status.busy": "2021-10-12T11:58:18.479899Z",
     "iopub.status.idle": "2021-10-12T11:58:19.695585Z",
     "shell.execute_reply": "2021-10-12T11:58:19.695053Z",
     "shell.execute_reply.started": "2021-10-12T11:24:56.598523Z"
    },
    "papermill": {
     "duration": 1.285188,
     "end_time": "2021-10-12T11:58:19.695751",
     "exception": false,
     "start_time": "2021-10-12T11:58:18.410563",
     "status": "completed"
    },
    "tags": []
   },
   "outputs": [
    {
     "data": {
      "image/png": "[encoded data removed]",
      "text/plain": [
       "<Figure size 576x396 with 1 Axes>"
      ]
     },
     "metadata": {},
     "output_type": "display_data"
    }
   ],
   "source": [
    "plot_model(bestModel, plot = 'auc')"
   ]
  },
  {
   "cell_type": "markdown",
   "id": "50e37283",
   "metadata": {
    "papermill": {
     "duration": 0.047516,
     "end_time": "2021-10-12T11:58:19.791316",
     "exception": false,
     "start_time": "2021-10-12T11:58:19.743800",
     "status": "completed"
    },
    "tags": []
   },
   "source": [
    "#### Discrimination Threshold"
   ]
  },
  {
   "cell_type": "code",
   "execution_count": 16,
   "id": "54b1694d",
   "metadata": {
    "execution": {
     "iopub.execute_input": "2021-10-12T11:58:19.893291Z",
     "iopub.status.busy": "2021-10-12T11:58:19.892564Z",
     "iopub.status.idle": "2021-10-12T11:59:42.770846Z",
     "shell.execute_reply": "2021-10-12T11:59:42.770113Z",
     "shell.execute_reply.started": "2021-10-12T11:24:57.621660Z"
    },
    "papermill": {
     "duration": 82.931779,
     "end_time": "2021-10-12T11:59:42.771025",
     "exception": false,
     "start_time": "2021-10-12T11:58:19.839246",
     "status": "completed"
    },
    "tags": []
   },
   "outputs": [
    {
     "data": {
      "image/png": "[encoded data removed]",
      "text/plain": [
       "<Figure size 576x396 with 1 Axes>"
      ]
     },
     "metadata": {},
     "output_type": "display_data"
    }
   ],
   "source": [
    "plot_model(bestModel, plot = 'threshold')"
   ]
  },
  {
   "cell_type": "markdown",
   "id": "b3c5cd09",
   "metadata": {
    "papermill": {
     "duration": 0.051149,
     "end_time": "2021-10-12T11:59:42.873039",
     "exception": false,
     "start_time": "2021-10-12T11:59:42.821890",
     "status": "completed"
    },
    "tags": []
   },
   "source": [
    "#### Precision Recall Curve"
   ]
  },
  {
   "cell_type": "code",
   "execution_count": 17,
   "id": "c815da8a",
   "metadata": {
    "execution": {
     "iopub.execute_input": "2021-10-12T11:59:42.980909Z",
     "iopub.status.busy": "2021-10-12T11:59:42.979915Z",
     "iopub.status.idle": "2021-10-12T11:59:44.088445Z",
     "shell.execute_reply": "2021-10-12T11:59:44.087807Z",
     "shell.execute_reply.started": "2021-10-12T11:26:16.233838Z"
    },
    "papermill": {
     "duration": 1.165166,
     "end_time": "2021-10-12T11:59:44.088612",
     "exception": false,
     "start_time": "2021-10-12T11:59:42.923446",
     "status": "completed"
    },
    "tags": []
   },
   "outputs": [
    {
     "data": {
      "image/png": "[encoded data removed]",
      "text/plain": [
       "<Figure size 576x396 with 1 Axes>"
      ]
     },
     "metadata": {},
     "output_type": "display_data"
    }
   ],
   "source": [
    "plot_model(bestModel, plot = 'pr')"
   ]
  },
  {
   "cell_type": "markdown",
   "id": "53d5b90d",
   "metadata": {
    "papermill": {
     "duration": 0.05149,
     "end_time": "2021-10-12T11:59:44.192969",
     "exception": false,
     "start_time": "2021-10-12T11:59:44.141479",
     "status": "completed"
    },
    "tags": []
   },
   "source": [
    "#### Confusion Matrix"
   ]
  },
  {
   "cell_type": "code",
   "execution_count": 18,
   "id": "2c740b0b",
   "metadata": {
    "execution": {
     "iopub.execute_input": "2021-10-12T11:59:44.301460Z",
     "iopub.status.busy": "2021-10-12T11:59:44.300489Z",
     "iopub.status.idle": "2021-10-12T11:59:45.418357Z",
     "shell.execute_reply": "2021-10-12T11:59:45.417663Z",
     "shell.execute_reply.started": "2021-10-12T11:26:17.190630Z"
    },
    "papermill": {
     "duration": 1.173852,
     "end_time": "2021-10-12T11:59:45.418511",
     "exception": false,
     "start_time": "2021-10-12T11:59:44.244659",
     "status": "completed"
    },
    "tags": []
   },
   "outputs": [
    {
     "data": {
      "image/png": "[encoded data removed]",
      "text/plain": [
       "<Figure size 576x396 with 1 Axes>"
      ]
     },
     "metadata": {},
     "output_type": "display_data"
    }
   ],
   "source": [
    "plot_model(bestModel, plot = 'confusion_matrix')"
   ]
  },
  {
   "cell_type": "markdown",
   "id": "ae1c4a0a",
   "metadata": {
    "papermill": {
     "duration": 0.051572,
     "end_time": "2021-10-12T11:59:45.522750",
     "exception": false,
     "start_time": "2021-10-12T11:59:45.471178",
     "status": "completed"
    },
    "tags": []
   },
   "source": [
    "#### Class Prediction Error"
   ]
  },
  {
   "cell_type": "code",
   "execution_count": 19,
   "id": "757dd365",
   "metadata": {
    "execution": {
     "iopub.execute_input": "2021-10-12T11:59:45.635588Z",
     "iopub.status.busy": "2021-10-12T11:59:45.634890Z",
     "iopub.status.idle": "2021-10-12T11:59:46.852022Z",
     "shell.execute_reply": "2021-10-12T11:59:46.851455Z",
     "shell.execute_reply.started": "2021-10-12T11:26:18.082285Z"
    },
    "papermill": {
     "duration": 1.275394,
     "end_time": "2021-10-12T11:59:46.852191",
     "exception": false,
     "start_time": "2021-10-12T11:59:45.576797",
     "status": "completed"
    },
    "tags": []
   },
   "outputs": [
    {
     "data": {
      "image/png": "[encoded data removed]",
      "text/plain": [
       "<Figure size 576x396 with 1 Axes>"
      ]
     },
     "metadata": {},
     "output_type": "display_data"
    }
   ],
   "source": [
    "plot_model(bestModel, plot = 'error')"
   ]
  },
  {
   "cell_type": "markdown",
   "id": "608af2c6",
   "metadata": {
    "papermill": {
     "duration": 0.05348,
     "end_time": "2021-10-12T11:59:46.960810",
     "exception": false,
     "start_time": "2021-10-12T11:59:46.907330",
     "status": "completed"
    },
    "tags": []
   },
   "source": [
    "#### Classification Report"
   ]
  },
  {
   "cell_type": "code",
   "execution_count": 20,
   "id": "165603c0",
   "metadata": {
    "execution": {
     "iopub.execute_input": "2021-10-12T11:59:47.076134Z",
     "iopub.status.busy": "2021-10-12T11:59:47.075124Z",
     "iopub.status.idle": "2021-10-12T11:59:48.249817Z",
     "shell.execute_reply": "2021-10-12T11:59:48.249106Z",
     "shell.execute_reply.started": "2021-10-12T11:26:19.047229Z"
    },
    "papermill": {
     "duration": 1.23556,
     "end_time": "2021-10-12T11:59:48.249965",
     "exception": false,
     "start_time": "2021-10-12T11:59:47.014405",
     "status": "completed"
    },
    "tags": []
   },
   "outputs": [
    {
     "data": {
      "image/png": "[encoded data removed]",
      "text/plain": [
       "<Figure size 576x396 with 2 Axes>"
      ]
     },
     "metadata": {},
     "output_type": "display_data"
    }
   ],
   "source": [
    "plot_model(bestModel, plot = 'class_report')"
   ]
  },
  {
   "cell_type": "markdown",
   "id": "48e5c2bb",
   "metadata": {
    "papermill": {
     "duration": 0.053366,
     "end_time": "2021-10-12T11:59:48.357033",
     "exception": false,
     "start_time": "2021-10-12T11:59:48.303667",
     "status": "completed"
    },
    "tags": []
   },
   "source": [
    "#### Decision Boundary"
   ]
  },
  {
   "cell_type": "code",
   "execution_count": 21,
   "id": "4d7c297d",
   "metadata": {
    "execution": {
     "iopub.execute_input": "2021-10-12T11:59:48.470930Z",
     "iopub.status.busy": "2021-10-12T11:59:48.469942Z",
     "iopub.status.idle": "2021-10-12T11:59:53.964481Z",
     "shell.execute_reply": "2021-10-12T11:59:53.963767Z",
     "shell.execute_reply.started": "2021-10-12T11:26:20.061964Z"
    },
    "papermill": {
     "duration": 5.553663,
     "end_time": "2021-10-12T11:59:53.964646",
     "exception": false,
     "start_time": "2021-10-12T11:59:48.410983",
     "status": "completed"
    },
    "tags": []
   },
   "outputs": [
    {
     "data": {
      "image/png": "[encoded data removed]",
      "text/plain": [
       "<Figure size 576x396 with 1 Axes>"
      ]
     },
     "metadata": {},
     "output_type": "display_data"
    }
   ],
   "source": [
    "plot_model(bestModel, plot = 'boundary')"
   ]
  },
  {
   "cell_type": "markdown",
   "id": "31caf6c5",
   "metadata": {
    "papermill": {
     "duration": 0.057497,
     "end_time": "2021-10-12T11:59:54.080294",
     "exception": false,
     "start_time": "2021-10-12T11:59:54.022797",
     "status": "completed"
    },
    "tags": []
   },
   "source": [
    "#### Recursive Feature Selection"
   ]
  },
  {
   "cell_type": "code",
   "execution_count": 22,
   "id": "e2f3b682",
   "metadata": {
    "execution": {
     "iopub.execute_input": "2021-10-12T11:59:54.201440Z",
     "iopub.status.busy": "2021-10-12T11:59:54.200452Z",
     "iopub.status.idle": "2021-10-12T16:54:01.209302Z",
     "shell.execute_reply": "2021-10-12T16:54:01.209975Z",
     "shell.execute_reply.started": "2021-10-12T11:26:24.451897Z"
    },
    "papermill": {
     "duration": 17647.072819,
     "end_time": "2021-10-12T16:54:01.210277",
     "exception": false,
     "start_time": "2021-10-12T11:59:54.137458",
     "status": "completed"
    },
    "tags": []
   },
   "outputs": [
    {
     "data": {
      "image/png": "[encoded data removed]",
      "text/plain": [
       "<Figure size 576x396 with 1 Axes>"
      ]
     },
     "metadata": {},
     "output_type": "display_data"
    }
   ],
   "source": [
    "plot_model(bestModel, plot = 'rfe')"
   ]
  },
  {
   "cell_type": "markdown",
   "id": "4d4e5948",
   "metadata": {
    "papermill": {
     "duration": 0.05745,
     "end_time": "2021-10-12T16:54:01.326050",
     "exception": false,
     "start_time": "2021-10-12T16:54:01.268600",
     "status": "completed"
    },
    "tags": []
   },
   "source": [
    "#### Learning Curve"
   ]
  },
  {
   "cell_type": "code",
   "execution_count": 23,
   "id": "ed55e1b0",
   "metadata": {
    "execution": {
     "iopub.execute_input": "2021-10-12T16:54:01.469789Z",
     "iopub.status.busy": "2021-10-12T16:54:01.465948Z",
     "iopub.status.idle": "2021-10-12T16:55:11.361025Z",
     "shell.execute_reply": "2021-10-12T16:55:11.361685Z",
     "shell.execute_reply.started": "2021-10-12T11:41:21.758166Z"
    },
    "papermill": {
     "duration": 69.977414,
     "end_time": "2021-10-12T16:55:11.361955",
     "exception": false,
     "start_time": "2021-10-12T16:54:01.384541",
     "status": "completed"
    },
    "tags": []
   },
   "outputs": [
    {
     "data": {
      "image/png": "[encoded data removed]",
      "text/plain": [
       "<Figure size 576x396 with 1 Axes>"
      ]
     },
     "metadata": {},
     "output_type": "display_data"
    }
   ],
   "source": [
    "plot_model(bestModel, plot = 'learning')"
   ]
  },
  {
   "cell_type": "markdown",
   "id": "b282332f",
   "metadata": {
    "papermill": {
     "duration": 0.061501,
     "end_time": "2021-10-12T16:55:11.493585",
     "exception": false,
     "start_time": "2021-10-12T16:55:11.432084",
     "status": "completed"
    },
    "tags": []
   },
   "source": [
    "#### Manifold Learning"
   ]
  },
  {
   "cell_type": "code",
   "execution_count": 24,
   "id": "69a7af91",
   "metadata": {
    "execution": {
     "iopub.execute_input": "2021-10-12T16:55:11.627959Z",
     "iopub.status.busy": "2021-10-12T16:55:11.627146Z",
     "iopub.status.idle": "2021-10-12T17:00:51.013174Z",
     "shell.execute_reply": "2021-10-12T17:00:51.012536Z",
     "shell.execute_reply.started": "2021-10-12T11:42:31.761279Z"
    },
    "papermill": {
     "duration": 339.454231,
     "end_time": "2021-10-12T17:00:51.013380",
     "exception": false,
     "start_time": "2021-10-12T16:55:11.559149",
     "status": "completed"
    },
    "tags": []
   },
   "outputs": [
    {
     "data": {
      "image/png": "[encoded data removed]",
      "text/plain": [
       "<Figure size 576x396 with 1 Axes>"
      ]
     },
     "metadata": {},
     "output_type": "display_data"
    }
   ],
   "source": [
    "plot_model(bestModel, plot = 'manifold')"
   ]
  },
  {
   "cell_type": "markdown",
   "id": "d5a0ddb3",
   "metadata": {
    "papermill": {
     "duration": 0.062158,
     "end_time": "2021-10-12T17:00:51.138775",
     "exception": false,
     "start_time": "2021-10-12T17:00:51.076617",
     "status": "completed"
    },
    "tags": []
   },
   "source": [
    "#### Calibration Curve"
   ]
  },
  {
   "cell_type": "code",
   "execution_count": 25,
   "id": "d688f725",
   "metadata": {
    "execution": {
     "iopub.execute_input": "2021-10-12T17:00:51.270192Z",
     "iopub.status.busy": "2021-10-12T17:00:51.269060Z",
     "iopub.status.idle": "2021-10-12T17:00:52.522395Z",
     "shell.execute_reply": "2021-10-12T17:00:52.521827Z",
     "shell.execute_reply.started": "2021-10-12T11:41:06.641110Z"
    },
    "papermill": {
     "duration": 1.320367,
     "end_time": "2021-10-12T17:00:52.522569",
     "exception": false,
     "start_time": "2021-10-12T17:00:51.202202",
     "status": "completed"
    },
    "tags": []
   },
   "outputs": [
    {
     "data": {
      "image/png": "[encoded data removed]",
      "text/plain": [
       "<Figure size 700x600 with 1 Axes>"
      ]
     },
     "metadata": {},
     "output_type": "display_data"
    }
   ],
   "source": [
    "plot_model(bestModel, plot = 'calibration')"
   ]
  },
  {
   "cell_type": "markdown",
   "id": "57e6d80d",
   "metadata": {
    "papermill": {
     "duration": 0.064336,
     "end_time": "2021-10-12T17:00:52.651755",
     "exception": false,
     "start_time": "2021-10-12T17:00:52.587419",
     "status": "completed"
    },
    "tags": []
   },
   "source": [
    "#### Validation Curve"
   ]
  },
  {
   "cell_type": "code",
   "execution_count": 26,
   "id": "b7eb845d",
   "metadata": {
    "execution": {
     "iopub.execute_input": "2021-10-12T17:00:52.790386Z",
     "iopub.status.busy": "2021-10-12T17:00:52.789140Z",
     "iopub.status.idle": "2021-10-12T17:02:27.947080Z",
     "shell.execute_reply": "2021-10-12T17:02:27.946420Z",
     "shell.execute_reply.started": "2021-10-12T11:41:06.642160Z"
    },
    "papermill": {
     "duration": 95.229718,
     "end_time": "2021-10-12T17:02:27.947252",
     "exception": false,
     "start_time": "2021-10-12T17:00:52.717534",
     "status": "completed"
    },
    "tags": []
   },
   "outputs": [
    {
     "data": {
      "image/png": "[encoded data removed]",
      "text/plain": [
       "<Figure size 576x396 with 1 Axes>"
      ]
     },
     "metadata": {},
     "output_type": "display_data"
    }
   ],
   "source": [
    "plot_model(bestModel, plot = 'vc')"
   ]
  },
  {
   "cell_type": "markdown",
   "id": "f2c445c5",
   "metadata": {
    "papermill": {
     "duration": 0.064138,
     "end_time": "2021-10-12T17:02:28.076805",
     "exception": false,
     "start_time": "2021-10-12T17:02:28.012667",
     "status": "completed"
    },
    "tags": []
   },
   "source": [
    "#### Dimension Learning"
   ]
  },
  {
   "cell_type": "code",
   "execution_count": 27,
   "id": "fa059b94",
   "metadata": {
    "execution": {
     "iopub.execute_input": "2021-10-12T17:02:28.214878Z",
     "iopub.status.busy": "2021-10-12T17:02:28.214149Z",
     "iopub.status.idle": "2021-10-12T17:02:30.822359Z",
     "shell.execute_reply": "2021-10-12T17:02:30.821805Z",
     "shell.execute_reply.started": "2021-10-12T11:41:06.643747Z"
    },
    "papermill": {
     "duration": 2.680844,
     "end_time": "2021-10-12T17:02:30.822525",
     "exception": false,
     "start_time": "2021-10-12T17:02:28.141681",
     "status": "completed"
    },
    "tags": []
   },
   "outputs": [
    {
     "data": {
      "image/png": "[encoded data removed]",
      "text/plain": [
       "<Figure size 576x396 with 1 Axes>"
      ]
     },
     "metadata": {},
     "output_type": "display_data"
    }
   ],
   "source": [
    "plot_model(bestModel, plot = 'dimension')"
   ]
  },
  {
   "cell_type": "markdown",
   "id": "9ddab087",
   "metadata": {
    "papermill": {
     "duration": 0.067189,
     "end_time": "2021-10-12T17:02:30.959131",
     "exception": false,
     "start_time": "2021-10-12T17:02:30.891942",
     "status": "completed"
    },
    "tags": []
   },
   "source": [
    "#### Feature Importance"
   ]
  },
  {
   "cell_type": "code",
   "execution_count": 28,
   "id": "691a3433",
   "metadata": {
    "execution": {
     "iopub.execute_input": "2021-10-12T17:02:31.105867Z",
     "iopub.status.busy": "2021-10-12T17:02:31.102192Z",
     "iopub.status.idle": "2021-10-12T17:02:32.399823Z",
     "shell.execute_reply": "2021-10-12T17:02:32.399143Z",
     "shell.execute_reply.started": "2021-10-12T11:41:06.645156Z"
    },
    "papermill": {
     "duration": 1.370866,
     "end_time": "2021-10-12T17:02:32.400001",
     "exception": false,
     "start_time": "2021-10-12T17:02:31.029135",
     "status": "completed"
    },
    "tags": []
   },
   "outputs": [
    {
     "data": {
      "image/png": "[encoded data removed]",
      "text/plain": [
       "<Figure size 800x500 with 1 Axes>"
      ]
     },
     "metadata": {},
     "output_type": "display_data"
    }
   ],
   "source": [
    "plot_model(bestModel, plot = 'feature')"
   ]
  },
  {
   "cell_type": "markdown",
   "id": "67496445",
   "metadata": {
    "papermill": {
     "duration": 0.072848,
     "end_time": "2021-10-12T17:02:32.550474",
     "exception": false,
     "start_time": "2021-10-12T17:02:32.477626",
     "status": "completed"
    },
    "tags": []
   },
   "source": [
    "#### Model Hyperparameter"
   ]
  },
  {
   "cell_type": "code",
   "execution_count": 29,
   "id": "ef83e952",
   "metadata": {
    "execution": {
     "iopub.execute_input": "2021-10-12T17:02:32.703718Z",
     "iopub.status.busy": "2021-10-12T17:02:32.702681Z",
     "iopub.status.idle": "2021-10-12T17:02:33.595925Z",
     "shell.execute_reply": "2021-10-12T17:02:33.594410Z",
     "shell.execute_reply.started": "2021-10-12T11:41:06.646238Z"
    },
    "papermill": {
     "duration": 0.973538,
     "end_time": "2021-10-12T17:02:33.596102",
     "exception": false,
     "start_time": "2021-10-12T17:02:32.622564",
     "status": "completed"
    },
    "tags": []
   },
   "outputs": [
    {
     "data": {
      "text/html": [
       "<div>\n",
       "<style scoped>\n",
       "    .dataframe tbody tr th:only-of-type {\n",
       "        vertical-align: middle;\n",
       "    }\n",
       "\n",
       "    .dataframe tbody tr th {\n",
       "        vertical-align: top;\n",
       "    }\n",
       "\n",
       "    .dataframe thead th {\n",
       "        text-align: right;\n",
       "    }\n",
       "</style>\n",
       "<table border=\"1\" class=\"dataframe\">\n",
       "  <thead>\n",
       "    <tr style=\"text-align: right;\">\n",
       "      <th></th>\n",
       "      <th>Parameters</th>\n",
       "    </tr>\n",
       "  </thead>\n",
       "  <tbody>\n",
       "    <tr>\n",
       "      <th>bootstrap</th>\n",
       "      <td>False</td>\n",
       "    </tr>\n",
       "    <tr>\n",
       "      <th>ccp_alpha</th>\n",
       "      <td>0.0</td>\n",
       "    </tr>\n",
       "    <tr>\n",
       "      <th>class_weight</th>\n",
       "      <td>{}</td>\n",
       "    </tr>\n",
       "    <tr>\n",
       "      <th>criterion</th>\n",
       "      <td>entropy</td>\n",
       "    </tr>\n",
       "    <tr>\n",
       "      <th>max_depth</th>\n",
       "      <td>6</td>\n",
       "    </tr>\n",
       "    <tr>\n",
       "      <th>max_features</th>\n",
       "      <td>sqrt</td>\n",
       "    </tr>\n",
       "    <tr>\n",
       "      <th>max_leaf_nodes</th>\n",
       "      <td>None</td>\n",
       "    </tr>\n",
       "    <tr>\n",
       "      <th>max_samples</th>\n",
       "      <td>None</td>\n",
       "    </tr>\n",
       "    <tr>\n",
       "      <th>min_impurity_decrease</th>\n",
       "      <td>0.002</td>\n",
       "    </tr>\n",
       "    <tr>\n",
       "      <th>min_impurity_split</th>\n",
       "      <td>None</td>\n",
       "    </tr>\n",
       "    <tr>\n",
       "      <th>min_samples_leaf</th>\n",
       "      <td>3</td>\n",
       "    </tr>\n",
       "    <tr>\n",
       "      <th>min_samples_split</th>\n",
       "      <td>2</td>\n",
       "    </tr>\n",
       "    <tr>\n",
       "      <th>min_weight_fraction_leaf</th>\n",
       "      <td>0.0</td>\n",
       "    </tr>\n",
       "    <tr>\n",
       "      <th>n_estimators</th>\n",
       "      <td>40</td>\n",
       "    </tr>\n",
       "    <tr>\n",
       "      <th>n_jobs</th>\n",
       "      <td>-1</td>\n",
       "    </tr>\n",
       "    <tr>\n",
       "      <th>oob_score</th>\n",
       "      <td>False</td>\n",
       "    </tr>\n",
       "    <tr>\n",
       "      <th>random_state</th>\n",
       "      <td>1</td>\n",
       "    </tr>\n",
       "    <tr>\n",
       "      <th>verbose</th>\n",
       "      <td>0</td>\n",
       "    </tr>\n",
       "    <tr>\n",
       "      <th>warm_start</th>\n",
       "      <td>False</td>\n",
       "    </tr>\n",
       "  </tbody>\n",
       "</table>\n",
       "</div>"
      ],
      "text/plain": [
       "                         Parameters\n",
       "bootstrap                     False\n",
       "ccp_alpha                       0.0\n",
       "class_weight                     {}\n",
       "criterion                   entropy\n",
       "max_depth                         6\n",
       "max_features                   sqrt\n",
       "max_leaf_nodes                 None\n",
       "max_samples                    None\n",
       "min_impurity_decrease         0.002\n",
       "min_impurity_split             None\n",
       "min_samples_leaf                  3\n",
       "min_samples_split                 2\n",
       "min_weight_fraction_leaf        0.0\n",
       "n_estimators                     40\n",
       "n_jobs                           -1\n",
       "oob_score                     False\n",
       "random_state                      1\n",
       "verbose                           0\n",
       "warm_start                    False"
      ]
     },
     "metadata": {},
     "output_type": "display_data"
    }
   ],
   "source": [
    "plot_model(bestModel, plot = 'parameter')"
   ]
  },
  {
   "cell_type": "markdown",
   "id": "f9873f15",
   "metadata": {
    "papermill": {
     "duration": 0.070011,
     "end_time": "2021-10-12T17:02:33.735783",
     "exception": false,
     "start_time": "2021-10-12T17:02:33.665772",
     "status": "completed"
    },
    "tags": []
   },
   "source": [
    "### Predict on test / hold-out Sample"
   ]
  },
  {
   "cell_type": "code",
   "execution_count": 30,
   "id": "267cd79a",
   "metadata": {
    "execution": {
     "iopub.execute_input": "2021-10-12T17:02:33.885660Z",
     "iopub.status.busy": "2021-10-12T17:02:33.884878Z",
     "iopub.status.idle": "2021-10-12T17:02:34.715526Z",
     "shell.execute_reply": "2021-10-12T17:02:34.714844Z",
     "shell.execute_reply.started": "2021-10-12T11:41:06.647199Z"
    },
    "papermill": {
     "duration": 0.909461,
     "end_time": "2021-10-12T17:02:34.715684",
     "exception": false,
     "start_time": "2021-10-12T17:02:33.806223",
     "status": "completed"
    },
    "tags": []
   },
   "outputs": [
    {
     "data": {
      "text/html": [
       "<style type=\"text/css\">\n",
       "</style>\n",
       "<table id=\"T_cb1a6_\">\n",
       "  <thead>\n",
       "    <tr>\n",
       "      <th class=\"blank level0\" >&nbsp;</th>\n",
       "      <th class=\"col_heading level0 col0\" >Model</th>\n",
       "      <th class=\"col_heading level0 col1\" >Accuracy</th>\n",
       "      <th class=\"col_heading level0 col2\" >AUC</th>\n",
       "      <th class=\"col_heading level0 col3\" >Recall</th>\n",
       "      <th class=\"col_heading level0 col4\" >Prec.</th>\n",
       "      <th class=\"col_heading level0 col5\" >F1</th>\n",
       "      <th class=\"col_heading level0 col6\" >Kappa</th>\n",
       "      <th class=\"col_heading level0 col7\" >MCC</th>\n",
       "    </tr>\n",
       "  </thead>\n",
       "  <tbody>\n",
       "    <tr>\n",
       "      <th id=\"T_cb1a6_level0_row0\" class=\"row_heading level0 row0\" >0</th>\n",
       "      <td id=\"T_cb1a6_row0_col0\" class=\"data row0 col0\" >Random Forest Classifier</td>\n",
       "      <td id=\"T_cb1a6_row0_col1\" class=\"data row0 col1\" >0.8432</td>\n",
       "      <td id=\"T_cb1a6_row0_col2\" class=\"data row0 col2\" >0.6692</td>\n",
       "      <td id=\"T_cb1a6_row0_col3\" class=\"data row0 col3\" >0.9460</td>\n",
       "      <td id=\"T_cb1a6_row0_col4\" class=\"data row0 col4\" >0.8823</td>\n",
       "      <td id=\"T_cb1a6_row0_col5\" class=\"data row0 col5\" >0.9131</td>\n",
       "      <td id=\"T_cb1a6_row0_col6\" class=\"data row0 col6\" >0.1265</td>\n",
       "      <td id=\"T_cb1a6_row0_col7\" class=\"data row0 col7\" >0.1350</td>\n",
       "    </tr>\n",
       "  </tbody>\n",
       "</table>\n"
      ],
      "text/plain": [
       "<pandas.io.formats.style.Styler at 0x7f2064c1da10>"
      ]
     },
     "metadata": {},
     "output_type": "display_data"
    }
   ],
   "source": [
    "pred_holdout = predict_model(bestModel)"
   ]
  },
  {
   "cell_type": "markdown",
   "id": "2caf85f9",
   "metadata": {
    "papermill": {
     "duration": 0.069119,
     "end_time": "2021-10-12T17:02:34.854428",
     "exception": false,
     "start_time": "2021-10-12T17:02:34.785309",
     "status": "completed"
    },
    "tags": []
   },
   "source": [
    "### Save Model"
   ]
  },
  {
   "cell_type": "code",
   "execution_count": 31,
   "id": "73702e06",
   "metadata": {
    "execution": {
     "iopub.execute_input": "2021-10-12T17:02:35.007388Z",
     "iopub.status.busy": "2021-10-12T17:02:35.006624Z",
     "iopub.status.idle": "2021-10-12T17:02:35.624428Z",
     "shell.execute_reply": "2021-10-12T17:02:35.623867Z",
     "shell.execute_reply.started": "2021-10-12T11:41:06.648160Z"
    },
    "papermill": {
     "duration": 0.701192,
     "end_time": "2021-10-12T17:02:35.624596",
     "exception": false,
     "start_time": "2021-10-12T17:02:34.923404",
     "status": "completed"
    },
    "tags": []
   },
   "outputs": [
    {
     "name": "stdout",
     "output_type": "stream",
     "text": [
      "Transformation Pipeline and Model Successfully Saved\n"
     ]
    },
    {
     "data": {
      "text/plain": [
       "(Pipeline(memory=None,\n",
       "          steps=[('dtypes',\n",
       "                  DataTypes_Auto_infer(categorical_features=[],\n",
       "                                       display_types=False, features_todrop=[],\n",
       "                                       id_columns=[],\n",
       "                                       ml_usecase='classification',\n",
       "                                       numerical_features=[],\n",
       "                                       target='loan_status', time_features=[])),\n",
       "                 ('imputer',\n",
       "                  Simple_Imputer(categorical_strategy='not_available',\n",
       "                                 fill_value_categorical=None,\n",
       "                                 fill_value_numerical=None,\n",
       "                                 numeric...\n",
       "                  RandomForestClassifier(bootstrap=False, ccp_alpha=0.0,\n",
       "                                         class_weight={}, criterion='entropy',\n",
       "                                         max_depth=6, max_features='sqrt',\n",
       "                                         max_leaf_nodes=None, max_samples=None,\n",
       "                                         min_impurity_decrease=0.002,\n",
       "                                         min_impurity_split=None,\n",
       "                                         min_samples_leaf=3, min_samples_split=2,\n",
       "                                         min_weight_fraction_leaf=0.0,\n",
       "                                         n_estimators=40, n_jobs=-1,\n",
       "                                         oob_score=False, random_state=1,\n",
       "                                         verbose=0, warm_start=False)]],\n",
       "          verbose=False),\n",
       " 'bestBaseModel.pkl')"
      ]
     },
     "execution_count": 31,
     "metadata": {},
     "output_type": "execute_result"
    }
   ],
   "source": [
    "save_model(bestModel, 'bestBaseModel')"
   ]
  }
 ],
 "metadata": {
  "kernelspec": {
   "display_name": "Python 3",
   "language": "python",
   "name": "python3"
  },
  "language_info": {
   "codemirror_mode": {
    "name": "ipython",
    "version": 3
   },
   "file_extension": ".py",
   "mimetype": "text/x-python",
   "name": "python",
   "nbconvert_exporter": "python",
   "pygments_lexer": "ipython3",
   "version": "3.7.10"
  },
  "papermill": {
   "default_parameters": {},
   "duration": 18654.357577,
   "end_time": "2021-10-12T17:02:39.296766",
   "environment_variables": {},
   "exception": null,
   "input_path": "__notebook__.ipynb",
   "output_path": "__notebook__.ipynb",
   "parameters": {},
   "start_time": "2021-10-12T11:51:44.939189",
   "version": "2.3.3"
  },
  "widgets": {
   "application/vnd.jupyter.widget-state+json": {
    "state": {
     "0170c9be7e1340968ca0a94cbafca50b": {
      "model_module": "@jupyter-widgets/controls",
      "model_module_version": "1.5.0",
      "model_name": "ProgressStyleModel",
      "state": {
       "_model_module": "@jupyter-widgets/controls",
       "_model_module_version": "1.5.0",
       "_model_name": "ProgressStyleModel",
       "_view_count": null,
       "_view_module": "@jupyter-widgets/base",
       "_view_module_version": "1.2.0",
       "_view_name": "StyleView",
       "bar_color": null,
       "description_width": ""
      }
     },
     "02b7a145e369422ab724528deb7df269": {
      "model_module": "@jupyter-widgets/base",
      "model_module_version": "1.2.0",
      "model_name": "LayoutModel",
      "state": {
       "_model_module": "@jupyter-widgets/base",
       "_model_module_version": "1.2.0",
       "_model_name": "LayoutModel",
       "_view_count": null,
       "_view_module": "@jupyter-widgets/base",
       "_view_module_version": "1.2.0",
       "_view_name": "LayoutView",
       "align_content": null,
       "align_items": null,
       "align_self": null,
       "border": null,
       "bottom": null,
       "display": null,
       "flex": null,
       "flex_flow": null,
       "grid_area": null,
       "grid_auto_columns": null,
       "grid_auto_flow": null,
       "grid_auto_rows": null,
       "grid_column": null,
       "grid_gap": null,
       "grid_row": null,
       "grid_template_areas": null,
       "grid_template_columns": null,
       "grid_template_rows": null,
       "height": null,
       "justify_content": null,
       "justify_items": null,
       "left": null,
       "margin": null,
       "max_height": null,
       "max_width": null,
       "min_height": null,
       "min_width": null,
       "object_fit": null,
       "object_position": null,
       "order": null,
       "overflow": null,
       "overflow_x": null,
       "overflow_y": null,
       "padding": null,
       "right": null,
       "top": null,
       "visibility": null,
       "width": null
      }
     },
     "07287c2609094b40ae6b7fe962d875d6": {
      "model_module": "@jupyter-widgets/base",
      "model_module_version": "1.2.0",
      "model_name": "LayoutModel",
      "state": {
       "_model_module": "@jupyter-widgets/base",
       "_model_module_version": "1.2.0",
       "_model_name": "LayoutModel",
       "_view_count": null,
       "_view_module": "@jupyter-widgets/base",
       "_view_module_version": "1.2.0",
       "_view_name": "LayoutView",
       "align_content": null,
       "align_items": null,
       "align_self": null,
       "border": null,
       "bottom": null,
       "display": null,
       "flex": null,
       "flex_flow": null,
       "grid_area": null,
       "grid_auto_columns": null,
       "grid_auto_flow": null,
       "grid_auto_rows": null,
       "grid_column": null,
       "grid_gap": null,
       "grid_row": null,
       "grid_template_areas": null,
       "grid_template_columns": null,
       "grid_template_rows": null,
       "height": null,
       "justify_content": null,
       "justify_items": null,
       "left": null,
       "margin": null,
       "max_height": null,
       "max_width": null,
       "min_height": null,
       "min_width": null,
       "object_fit": null,
       "object_position": null,
       "order": null,
       "overflow": null,
       "overflow_x": null,
       "overflow_y": null,
       "padding": null,
       "right": null,
       "top": null,
       "visibility": null,
       "width": null
      }
     },
     "0a1ef11189c8440a8f84f16f9150a4eb": {
      "model_module": "@jupyter-widgets/controls",
      "model_module_version": "1.5.0",
      "model_name": "IntProgressModel",
      "state": {
       "_dom_classes": [],
       "_model_module": "@jupyter-widgets/controls",
       "_model_module_version": "1.5.0",
       "_model_name": "IntProgressModel",
       "_view_count": null,
       "_view_module": "@jupyter-widgets/controls",
       "_view_module_version": "1.5.0",
       "_view_name": "ProgressView",
       "bar_style": "",
       "description": "Processing: ",
       "description_tooltip": null,
       "layout": "IPY_MODEL_b872fa72aeee4ababb7027d50dc83bef",
       "max": 5,
       "min": 0,
       "orientation": "horizontal",
       "style": "IPY_MODEL_a61a012ed82541f1bcbe8618eb22ddae",
       "value": 5
      }
     },
     "0e143eea3e8f46d19a77a334ec3c62e1": {
      "model_module": "@jupyter-widgets/output",
      "model_module_version": "1.0.0",
      "model_name": "OutputModel",
      "state": {
       "_dom_classes": [],
       "_model_module": "@jupyter-widgets/output",
       "_model_module_version": "1.0.0",
       "_model_name": "OutputModel",
       "_view_count": null,
       "_view_module": "@jupyter-widgets/output",
       "_view_module_version": "1.0.0",
       "_view_name": "OutputView",
       "layout": "IPY_MODEL_af2ad46854f8419ea536149e2ef40c9b",
       "msg_id": "",
       "outputs": [
        {
         "data": {
          "text/html": "<div>\n<style scoped>\n    .dataframe tbody tr th:only-of-type {\n        vertical-align: middle;\n    }\n\n    .dataframe tbody tr th {\n        vertical-align: top;\n    }\n\n    .dataframe thead th {\n        text-align: right;\n    }\n</style>\n<table border=\"1\" class=\"dataframe\">\n  <thead>\n    <tr style=\"text-align: right;\">\n      <th></th>\n      <th>Parameters</th>\n    </tr>\n  </thead>\n  <tbody>\n    <tr>\n      <th>bootstrap</th>\n      <td>False</td>\n    </tr>\n    <tr>\n      <th>ccp_alpha</th>\n      <td>0.0</td>\n    </tr>\n    <tr>\n      <th>class_weight</th>\n      <td>{}</td>\n    </tr>\n    <tr>\n      <th>criterion</th>\n      <td>entropy</td>\n    </tr>\n    <tr>\n      <th>max_depth</th>\n      <td>6</td>\n    </tr>\n    <tr>\n      <th>max_features</th>\n      <td>sqrt</td>\n    </tr>\n    <tr>\n      <th>max_leaf_nodes</th>\n      <td>None</td>\n    </tr>\n    <tr>\n      <th>max_samples</th>\n      <td>None</td>\n    </tr>\n    <tr>\n      <th>min_impurity_decrease</th>\n      <td>0.002</td>\n    </tr>\n    <tr>\n      <th>min_impurity_split</th>\n      <td>None</td>\n    </tr>\n    <tr>\n      <th>min_samples_leaf</th>\n      <td>3</td>\n    </tr>\n    <tr>\n      <th>min_samples_split</th>\n      <td>2</td>\n    </tr>\n    <tr>\n      <th>min_weight_fraction_leaf</th>\n      <td>0.0</td>\n    </tr>\n    <tr>\n      <th>n_estimators</th>\n      <td>40</td>\n    </tr>\n    <tr>\n      <th>n_jobs</th>\n      <td>-1</td>\n    </tr>\n    <tr>\n      <th>oob_score</th>\n      <td>False</td>\n    </tr>\n    <tr>\n      <th>random_state</th>\n      <td>1</td>\n    </tr>\n    <tr>\n      <th>verbose</th>\n      <td>0</td>\n    </tr>\n    <tr>\n      <th>warm_start</th>\n      <td>False</td>\n    </tr>\n  </tbody>\n</table>\n</div>",
          "text/plain": "                         Parameters\nbootstrap                     False\nccp_alpha                       0.0\nclass_weight                     {}\ncriterion                   entropy\nmax_depth                         6\nmax_features                   sqrt\nmax_leaf_nodes                 None\nmax_samples                    None\nmin_impurity_decrease         0.002\nmin_impurity_split             None\nmin_samples_leaf                  3\nmin_samples_split                 2\nmin_weight_fraction_leaf        0.0\nn_estimators                     40\nn_jobs                           -1\noob_score                     False\nrandom_state                      1\nverbose                           0\nwarm_start                    False"
         },
         "metadata": {},
         "output_type": "display_data"
        }
       ]
      }
     },
     "1821c2e3982543b3bc8a94fd3500a83c": {
      "model_module": "@jupyter-widgets/base",
      "model_module_version": "1.2.0",
      "model_name": "LayoutModel",
      "state": {
       "_model_module": "@jupyter-widgets/base",
       "_model_module_version": "1.2.0",
       "_model_name": "LayoutModel",
       "_view_count": null,
       "_view_module": "@jupyter-widgets/base",
       "_view_module_version": "1.2.0",
       "_view_name": "LayoutView",
       "align_content": null,
       "align_items": null,
       "align_self": null,
       "border": null,
       "bottom": null,
       "display": null,
       "flex": null,
       "flex_flow": null,
       "grid_area": null,
       "grid_auto_columns": null,
       "grid_auto_flow": null,
       "grid_auto_rows": null,
       "grid_column": null,
       "grid_gap": null,
       "grid_row": null,
       "grid_template_areas": null,
       "grid_template_columns": null,
       "grid_template_rows": null,
       "height": null,
       "justify_content": null,
       "justify_items": null,
       "left": null,
       "margin": null,
       "max_height": null,
       "max_width": null,
       "min_height": null,
       "min_width": null,
       "object_fit": null,
       "object_position": null,
       "order": null,
       "overflow": null,
       "overflow_x": null,
       "overflow_y": null,
       "padding": null,
       "right": null,
       "top": null,
       "visibility": null,
       "width": null
      }
     },
     "18504c6fa4cd4eac90ef9484cf176431": {
      "model_module": "@jupyter-widgets/controls",
      "model_module_version": "1.5.0",
      "model_name": "ProgressStyleModel",
      "state": {
       "_model_module": "@jupyter-widgets/controls",
       "_model_module_version": "1.5.0",
       "_model_name": "ProgressStyleModel",
       "_view_count": null,
       "_view_module": "@jupyter-widgets/base",
       "_view_module_version": "1.2.0",
       "_view_name": "StyleView",
       "bar_color": null,
       "description_width": ""
      }
     },
     "1d0e026c95e54721931e1a49ddc4f12f": {
      "model_module": "@jupyter-widgets/controls",
      "model_module_version": "1.5.0",
      "model_name": "IntProgressModel",
      "state": {
       "_dom_classes": [],
       "_model_module": "@jupyter-widgets/controls",
       "_model_module_version": "1.5.0",
       "_model_name": "IntProgressModel",
       "_view_count": null,
       "_view_module": "@jupyter-widgets/controls",
       "_view_module_version": "1.5.0",
       "_view_name": "ProgressView",
       "bar_style": "",
       "description": "Processing: ",
       "description_tooltip": null,
       "layout": "IPY_MODEL_213c24e5066949558d214e67111a5c0c",
       "max": 5,
       "min": 0,
       "orientation": "horizontal",
       "style": "IPY_MODEL_b7715a98625f479f81d14266018632da",
       "value": 5
      }
     },
     "1dec0791708444bca15e4ce02ee5e349": {
      "model_module": "@jupyter-widgets/base",
      "model_module_version": "1.2.0",
      "model_name": "LayoutModel",
      "state": {
       "_model_module": "@jupyter-widgets/base",
       "_model_module_version": "1.2.0",
       "_model_name": "LayoutModel",
       "_view_count": null,
       "_view_module": "@jupyter-widgets/base",
       "_view_module_version": "1.2.0",
       "_view_name": "LayoutView",
       "align_content": null,
       "align_items": null,
       "align_self": null,
       "border": null,
       "bottom": null,
       "display": null,
       "flex": null,
       "flex_flow": null,
       "grid_area": null,
       "grid_auto_columns": null,
       "grid_auto_flow": null,
       "grid_auto_rows": null,
       "grid_column": null,
       "grid_gap": null,
       "grid_row": null,
       "grid_template_areas": null,
       "grid_template_columns": null,
       "grid_template_rows": null,
       "height": null,
       "justify_content": null,
       "justify_items": null,
       "left": null,
       "margin": null,
       "max_height": null,
       "max_width": null,
       "min_height": null,
       "min_width": null,
       "object_fit": null,
       "object_position": null,
       "order": null,
       "overflow": null,
       "overflow_x": null,
       "overflow_y": null,
       "padding": null,
       "right": null,
       "top": null,
       "visibility": null,
       "width": null
      }
     },
     "213c24e5066949558d214e67111a5c0c": {
      "model_module": "@jupyter-widgets/base",
      "model_module_version": "1.2.0",
      "model_name": "LayoutModel",
      "state": {
       "_model_module": "@jupyter-widgets/base",
       "_model_module_version": "1.2.0",
       "_model_name": "LayoutModel",
       "_view_count": null,
       "_view_module": "@jupyter-widgets/base",
       "_view_module_version": "1.2.0",
       "_view_name": "LayoutView",
       "align_content": null,
       "align_items": null,
       "align_self": null,
       "border": null,
       "bottom": null,
       "display": null,
       "flex": null,
       "flex_flow": null,
       "grid_area": null,
       "grid_auto_columns": null,
       "grid_auto_flow": null,
       "grid_auto_rows": null,
       "grid_column": null,
       "grid_gap": null,
       "grid_row": null,
       "grid_template_areas": null,
       "grid_template_columns": null,
       "grid_template_rows": null,
       "height": null,
       "justify_content": null,
       "justify_items": null,
       "left": null,
       "margin": null,
       "max_height": null,
       "max_width": null,
       "min_height": null,
       "min_width": null,
       "object_fit": null,
       "object_position": null,
       "order": null,
       "overflow": null,
       "overflow_x": null,
       "overflow_y": null,
       "padding": null,
       "right": null,
       "top": null,
       "visibility": null,
       "width": null
      }
     },
     "2bf3b2244644441ca39d0cd84962f618": {
      "model_module": "@jupyter-widgets/controls",
      "model_module_version": "1.5.0",
      "model_name": "IntProgressModel",
      "state": {
       "_dom_classes": [],
       "_model_module": "@jupyter-widgets/controls",
       "_model_module_version": "1.5.0",
       "_model_name": "IntProgressModel",
       "_view_count": null,
       "_view_module": "@jupyter-widgets/controls",
       "_view_module_version": "1.5.0",
       "_view_name": "ProgressView",
       "bar_style": "",
       "description": "Processing: ",
       "description_tooltip": null,
       "layout": "IPY_MODEL_02b7a145e369422ab724528deb7df269",
       "max": 79,
       "min": 0,
       "orientation": "horizontal",
       "style": "IPY_MODEL_507b42fd50524593bc02fc45611caf88",
       "value": 79
      }
     },
     "2c3f8bbc119c4708b3d3cf9d87050dfe": {
      "model_module": "@jupyter-widgets/controls",
      "model_module_version": "1.5.0",
      "model_name": "IntProgressModel",
      "state": {
       "_dom_classes": [],
       "_model_module": "@jupyter-widgets/controls",
       "_model_module_version": "1.5.0",
       "_model_name": "IntProgressModel",
       "_view_count": null,
       "_view_module": "@jupyter-widgets/controls",
       "_view_module_version": "1.5.0",
       "_view_name": "ProgressView",
       "bar_style": "",
       "description": "Processing: ",
       "description_tooltip": null,
       "layout": "IPY_MODEL_f684eb6a5efd430f98b1093c5e3ccb61",
       "max": 5,
       "min": 0,
       "orientation": "horizontal",
       "style": "IPY_MODEL_8804af8551414c21936ad7db6b10cf0b",
       "value": 5
      }
     },
     "2c9246117b874e58aba68b42fbd8e5cc": {
      "model_module": "@jupyter-widgets/controls",
      "model_module_version": "1.5.0",
      "model_name": "IntProgressModel",
      "state": {
       "_dom_classes": [],
       "_model_module": "@jupyter-widgets/controls",
       "_model_module_version": "1.5.0",
       "_model_name": "IntProgressModel",
       "_view_count": null,
       "_view_module": "@jupyter-widgets/controls",
       "_view_module_version": "1.5.0",
       "_view_name": "ProgressView",
       "bar_style": "",
       "description": "Processing: ",
       "description_tooltip": null,
       "layout": "IPY_MODEL_eeb1d7e016f94f1b9187f806abb00526",
       "max": 5,
       "min": 0,
       "orientation": "horizontal",
       "style": "IPY_MODEL_ef49a182d9174d2c98390e4a77476c82",
       "value": 5
      }
     },
     "2d1e54bd2fab4a5f97f2fd73c4c13970": {
      "model_module": "@jupyter-widgets/controls",
      "model_module_version": "1.5.0",
      "model_name": "IntProgressModel",
      "state": {
       "_dom_classes": [],
       "_model_module": "@jupyter-widgets/controls",
       "_model_module_version": "1.5.0",
       "_model_name": "IntProgressModel",
       "_view_count": null,
       "_view_module": "@jupyter-widgets/controls",
       "_view_module_version": "1.5.0",
       "_view_name": "ProgressView",
       "bar_style": "",
       "description": "Processing: ",
       "description_tooltip": null,
       "layout": "IPY_MODEL_8cc11a70300c4549a273b84761105de0",
       "max": 5,
       "min": 0,
       "orientation": "horizontal",
       "style": "IPY_MODEL_64386a0056a24a7cbecbf0a70ae40140",
       "value": 5
      }
     },
     "2eced6e3ea2542c68bc945c44b96f41b": {
      "model_module": "@jupyter-widgets/controls",
      "model_module_version": "1.5.0",
      "model_name": "IntProgressModel",
      "state": {
       "_dom_classes": [],
       "_model_module": "@jupyter-widgets/controls",
       "_model_module_version": "1.5.0",
       "_model_name": "IntProgressModel",
       "_view_count": null,
       "_view_module": "@jupyter-widgets/controls",
       "_view_module_version": "1.5.0",
       "_view_name": "ProgressView",
       "bar_style": "",
       "description": "Processing: ",
       "description_tooltip": null,
       "layout": "IPY_MODEL_65546ccbefa74b178d5966cf44fa7c46",
       "max": 5,
       "min": 0,
       "orientation": "horizontal",
       "style": "IPY_MODEL_7ea7eaaef7464f1e944dc3300815e326",
       "value": 5
      }
     },
     "32caf64a6020422f8839273db11c59b4": {
      "model_module": "@jupyter-widgets/controls",
      "model_module_version": "1.5.0",
      "model_name": "ProgressStyleModel",
      "state": {
       "_model_module": "@jupyter-widgets/controls",
       "_model_module_version": "1.5.0",
       "_model_name": "ProgressStyleModel",
       "_view_count": null,
       "_view_module": "@jupyter-widgets/base",
       "_view_module_version": "1.2.0",
       "_view_name": "StyleView",
       "bar_color": null,
       "description_width": ""
      }
     },
     "33ea92209d0d4083ad4f333445523eea": {
      "model_module": "@jupyter-widgets/base",
      "model_module_version": "1.2.0",
      "model_name": "LayoutModel",
      "state": {
       "_model_module": "@jupyter-widgets/base",
       "_model_module_version": "1.2.0",
       "_model_name": "LayoutModel",
       "_view_count": null,
       "_view_module": "@jupyter-widgets/base",
       "_view_module_version": "1.2.0",
       "_view_name": "LayoutView",
       "align_content": null,
       "align_items": null,
       "align_self": null,
       "border": null,
       "bottom": null,
       "display": null,
       "flex": null,
       "flex_flow": null,
       "grid_area": null,
       "grid_auto_columns": null,
       "grid_auto_flow": null,
       "grid_auto_rows": null,
       "grid_column": null,
       "grid_gap": null,
       "grid_row": null,
       "grid_template_areas": null,
       "grid_template_columns": null,
       "grid_template_rows": null,
       "height": null,
       "justify_content": null,
       "justify_items": null,
       "left": null,
       "margin": null,
       "max_height": null,
       "max_width": null,
       "min_height": null,
       "min_width": null,
       "object_fit": null,
       "object_position": null,
       "order": null,
       "overflow": null,
       "overflow_x": null,
       "overflow_y": null,
       "padding": null,
       "right": null,
       "top": null,
       "visibility": null,
       "width": null
      }
     },
     "3708dcb38efe4ef8b0ffb75530c408ff": {
      "model_module": "@jupyter-widgets/controls",
      "model_module_version": "1.5.0",
      "model_name": "ProgressStyleModel",
      "state": {
       "_model_module": "@jupyter-widgets/controls",
       "_model_module_version": "1.5.0",
       "_model_name": "ProgressStyleModel",
       "_view_count": null,
       "_view_module": "@jupyter-widgets/base",
       "_view_module_version": "1.2.0",
       "_view_name": "StyleView",
       "bar_color": null,
       "description_width": ""
      }
     },
     "3770a81b9f82439bb590fa2625a0b918": {
      "model_module": "@jupyter-widgets/controls",
      "model_module_version": "1.5.0",
      "model_name": "IntProgressModel",
      "state": {
       "_dom_classes": [],
       "_model_module": "@jupyter-widgets/controls",
       "_model_module_version": "1.5.0",
       "_model_name": "IntProgressModel",
       "_view_count": null,
       "_view_module": "@jupyter-widgets/controls",
       "_view_module_version": "1.5.0",
       "_view_name": "ProgressView",
       "bar_style": "",
       "description": "Processing: ",
       "description_tooltip": null,
       "layout": "IPY_MODEL_b32ecaecedd649849ae6d17a684a86cf",
       "max": 5,
       "min": 0,
       "orientation": "horizontal",
       "style": "IPY_MODEL_bee1c6e38b3047d68adfd1ba0ec53de5",
       "value": 5
      }
     },
     "3a01708f0e244fa7a9921e4e054437fe": {
      "model_module": "@jupyter-widgets/base",
      "model_module_version": "1.2.0",
      "model_name": "LayoutModel",
      "state": {
       "_model_module": "@jupyter-widgets/base",
       "_model_module_version": "1.2.0",
       "_model_name": "LayoutModel",
       "_view_count": null,
       "_view_module": "@jupyter-widgets/base",
       "_view_module_version": "1.2.0",
       "_view_name": "LayoutView",
       "align_content": null,
       "align_items": null,
       "align_self": null,
       "border": null,
       "bottom": null,
       "display": null,
       "flex": null,
       "flex_flow": null,
       "grid_area": null,
       "grid_auto_columns": null,
       "grid_auto_flow": null,
       "grid_auto_rows": null,
       "grid_column": null,
       "grid_gap": null,
       "grid_row": null,
       "grid_template_areas": null,
       "grid_template_columns": null,
       "grid_template_rows": null,
       "height": null,
       "justify_content": null,
       "justify_items": null,
       "left": null,
       "margin": null,
       "max_height": null,
       "max_width": null,
       "min_height": null,
       "min_width": null,
       "object_fit": null,
       "object_position": null,
       "order": null,
       "overflow": null,
       "overflow_x": null,
       "overflow_y": null,
       "padding": null,
       "right": null,
       "top": null,
       "visibility": null,
       "width": null
      }
     },
     "3bec1ab8997243b4bfe349a01d3129d2": {
      "model_module": "@jupyter-widgets/base",
      "model_module_version": "1.2.0",
      "model_name": "LayoutModel",
      "state": {
       "_model_module": "@jupyter-widgets/base",
       "_model_module_version": "1.2.0",
       "_model_name": "LayoutModel",
       "_view_count": null,
       "_view_module": "@jupyter-widgets/base",
       "_view_module_version": "1.2.0",
       "_view_name": "LayoutView",
       "align_content": null,
       "align_items": null,
       "align_self": null,
       "border": null,
       "bottom": null,
       "display": null,
       "flex": null,
       "flex_flow": null,
       "grid_area": null,
       "grid_auto_columns": null,
       "grid_auto_flow": null,
       "grid_auto_rows": null,
       "grid_column": null,
       "grid_gap": null,
       "grid_row": null,
       "grid_template_areas": null,
       "grid_template_columns": null,
       "grid_template_rows": null,
       "height": null,
       "justify_content": null,
       "justify_items": null,
       "left": null,
       "margin": null,
       "max_height": null,
       "max_width": null,
       "min_height": null,
       "min_width": null,
       "object_fit": null,
       "object_position": null,
       "order": null,
       "overflow": null,
       "overflow_x": null,
       "overflow_y": null,
       "padding": null,
       "right": null,
       "top": null,
       "visibility": null,
       "width": null
      }
     },
     "4535ab950b314d7c8b5c5c243043d699": {
      "model_module": "@jupyter-widgets/controls",
      "model_module_version": "1.5.0",
      "model_name": "ProgressStyleModel",
      "state": {
       "_model_module": "@jupyter-widgets/controls",
       "_model_module_version": "1.5.0",
       "_model_name": "ProgressStyleModel",
       "_view_count": null,
       "_view_module": "@jupyter-widgets/base",
       "_view_module_version": "1.2.0",
       "_view_name": "StyleView",
       "bar_color": null,
       "description_width": ""
      }
     },
     "507b42fd50524593bc02fc45611caf88": {
      "model_module": "@jupyter-widgets/controls",
      "model_module_version": "1.5.0",
      "model_name": "ProgressStyleModel",
      "state": {
       "_model_module": "@jupyter-widgets/controls",
       "_model_module_version": "1.5.0",
       "_model_name": "ProgressStyleModel",
       "_view_count": null,
       "_view_module": "@jupyter-widgets/base",
       "_view_module_version": "1.2.0",
       "_view_name": "StyleView",
       "bar_color": null,
       "description_width": ""
      }
     },
     "64386a0056a24a7cbecbf0a70ae40140": {
      "model_module": "@jupyter-widgets/controls",
      "model_module_version": "1.5.0",
      "model_name": "ProgressStyleModel",
      "state": {
       "_model_module": "@jupyter-widgets/controls",
       "_model_module_version": "1.5.0",
       "_model_name": "ProgressStyleModel",
       "_view_count": null,
       "_view_module": "@jupyter-widgets/base",
       "_view_module_version": "1.2.0",
       "_view_name": "StyleView",
       "bar_color": null,
       "description_width": ""
      }
     },
     "65546ccbefa74b178d5966cf44fa7c46": {
      "model_module": "@jupyter-widgets/base",
      "model_module_version": "1.2.0",
      "model_name": "LayoutModel",
      "state": {
       "_model_module": "@jupyter-widgets/base",
       "_model_module_version": "1.2.0",
       "_model_name": "LayoutModel",
       "_view_count": null,
       "_view_module": "@jupyter-widgets/base",
       "_view_module_version": "1.2.0",
       "_view_name": "LayoutView",
       "align_content": null,
       "align_items": null,
       "align_self": null,
       "border": null,
       "bottom": null,
       "display": null,
       "flex": null,
       "flex_flow": null,
       "grid_area": null,
       "grid_auto_columns": null,
       "grid_auto_flow": null,
       "grid_auto_rows": null,
       "grid_column": null,
       "grid_gap": null,
       "grid_row": null,
       "grid_template_areas": null,
       "grid_template_columns": null,
       "grid_template_rows": null,
       "height": null,
       "justify_content": null,
       "justify_items": null,
       "left": null,
       "margin": null,
       "max_height": null,
       "max_width": null,
       "min_height": null,
       "min_width": null,
       "object_fit": null,
       "object_position": null,
       "order": null,
       "overflow": null,
       "overflow_x": null,
       "overflow_y": null,
       "padding": null,
       "right": null,
       "top": null,
       "visibility": null,
       "width": null
      }
     },
     "690997fd4aaa4e02a4ce0819f548eaa7": {
      "model_module": "@jupyter-widgets/base",
      "model_module_version": "1.2.0",
      "model_name": "LayoutModel",
      "state": {
       "_model_module": "@jupyter-widgets/base",
       "_model_module_version": "1.2.0",
       "_model_name": "LayoutModel",
       "_view_count": null,
       "_view_module": "@jupyter-widgets/base",
       "_view_module_version": "1.2.0",
       "_view_name": "LayoutView",
       "align_content": null,
       "align_items": null,
       "align_self": null,
       "border": null,
       "bottom": null,
       "display": null,
       "flex": null,
       "flex_flow": null,
       "grid_area": null,
       "grid_auto_columns": null,
       "grid_auto_flow": null,
       "grid_auto_rows": null,
       "grid_column": null,
       "grid_gap": null,
       "grid_row": null,
       "grid_template_areas": null,
       "grid_template_columns": null,
       "grid_template_rows": null,
       "height": null,
       "justify_content": null,
       "justify_items": null,
       "left": null,
       "margin": null,
       "max_height": null,
       "max_width": null,
       "min_height": null,
       "min_width": null,
       "object_fit": null,
       "object_position": null,
       "order": null,
       "overflow": null,
       "overflow_x": null,
       "overflow_y": null,
       "padding": null,
       "right": null,
       "top": null,
       "visibility": null,
       "width": null
      }
     },
     "6a94952c09834ac4be2161da035dd0c2": {
      "model_module": "@jupyter-widgets/controls",
      "model_module_version": "1.5.0",
      "model_name": "IntProgressModel",
      "state": {
       "_dom_classes": [],
       "_model_module": "@jupyter-widgets/controls",
       "_model_module_version": "1.5.0",
       "_model_name": "IntProgressModel",
       "_view_count": null,
       "_view_module": "@jupyter-widgets/controls",
       "_view_module_version": "1.5.0",
       "_view_name": "ProgressView",
       "bar_style": "",
       "description": "Processing: ",
       "description_tooltip": null,
       "layout": "IPY_MODEL_690997fd4aaa4e02a4ce0819f548eaa7",
       "max": 5,
       "min": 0,
       "orientation": "horizontal",
       "style": "IPY_MODEL_7a42bc54753e4994a543659a06670425",
       "value": 5
      }
     },
     "732d4da3be014279982303999c2fde67": {
      "model_module": "@jupyter-widgets/base",
      "model_module_version": "1.2.0",
      "model_name": "LayoutModel",
      "state": {
       "_model_module": "@jupyter-widgets/base",
       "_model_module_version": "1.2.0",
       "_model_name": "LayoutModel",
       "_view_count": null,
       "_view_module": "@jupyter-widgets/base",
       "_view_module_version": "1.2.0",
       "_view_name": "LayoutView",
       "align_content": null,
       "align_items": null,
       "align_self": null,
       "border": null,
       "bottom": null,
       "display": null,
       "flex": null,
       "flex_flow": null,
       "grid_area": null,
       "grid_auto_columns": null,
       "grid_auto_flow": null,
       "grid_auto_rows": null,
       "grid_column": null,
       "grid_gap": null,
       "grid_row": null,
       "grid_template_areas": null,
       "grid_template_columns": null,
       "grid_template_rows": null,
       "height": null,
       "justify_content": null,
       "justify_items": null,
       "left": null,
       "margin": null,
       "max_height": null,
       "max_width": null,
       "min_height": null,
       "min_width": null,
       "object_fit": null,
       "object_position": null,
       "order": null,
       "overflow": null,
       "overflow_x": null,
       "overflow_y": null,
       "padding": null,
       "right": null,
       "top": null,
       "visibility": null,
       "width": null
      }
     },
     "74ea1f0c02d6437db2ef607503068d75": {
      "model_module": "@jupyter-widgets/controls",
      "model_module_version": "1.5.0",
      "model_name": "IntProgressModel",
      "state": {
       "_dom_classes": [],
       "_model_module": "@jupyter-widgets/controls",
       "_model_module_version": "1.5.0",
       "_model_name": "IntProgressModel",
       "_view_count": null,
       "_view_module": "@jupyter-widgets/controls",
       "_view_module_version": "1.5.0",
       "_view_name": "ProgressView",
       "bar_style": "",
       "description": "Processing: ",
       "description_tooltip": null,
       "layout": "IPY_MODEL_732d4da3be014279982303999c2fde67",
       "max": 5,
       "min": 0,
       "orientation": "horizontal",
       "style": "IPY_MODEL_32caf64a6020422f8839273db11c59b4",
       "value": 5
      }
     },
     "76b873d85002484292dcfc3568becbbb": {
      "model_module": "@jupyter-widgets/base",
      "model_module_version": "1.2.0",
      "model_name": "LayoutModel",
      "state": {
       "_model_module": "@jupyter-widgets/base",
       "_model_module_version": "1.2.0",
       "_model_name": "LayoutModel",
       "_view_count": null,
       "_view_module": "@jupyter-widgets/base",
       "_view_module_version": "1.2.0",
       "_view_name": "LayoutView",
       "align_content": null,
       "align_items": null,
       "align_self": null,
       "border": null,
       "bottom": null,
       "display": null,
       "flex": null,
       "flex_flow": null,
       "grid_area": null,
       "grid_auto_columns": null,
       "grid_auto_flow": null,
       "grid_auto_rows": null,
       "grid_column": null,
       "grid_gap": null,
       "grid_row": null,
       "grid_template_areas": null,
       "grid_template_columns": null,
       "grid_template_rows": null,
       "height": null,
       "justify_content": null,
       "justify_items": null,
       "left": null,
       "margin": null,
       "max_height": null,
       "max_width": null,
       "min_height": null,
       "min_width": null,
       "object_fit": null,
       "object_position": null,
       "order": null,
       "overflow": null,
       "overflow_x": null,
       "overflow_y": null,
       "padding": null,
       "right": null,
       "top": null,
       "visibility": null,
       "width": null
      }
     },
     "7a42bc54753e4994a543659a06670425": {
      "model_module": "@jupyter-widgets/controls",
      "model_module_version": "1.5.0",
      "model_name": "ProgressStyleModel",
      "state": {
       "_model_module": "@jupyter-widgets/controls",
       "_model_module_version": "1.5.0",
       "_model_name": "ProgressStyleModel",
       "_view_count": null,
       "_view_module": "@jupyter-widgets/base",
       "_view_module_version": "1.2.0",
       "_view_name": "StyleView",
       "bar_color": null,
       "description_width": ""
      }
     },
     "7ea7eaaef7464f1e944dc3300815e326": {
      "model_module": "@jupyter-widgets/controls",
      "model_module_version": "1.5.0",
      "model_name": "ProgressStyleModel",
      "state": {
       "_model_module": "@jupyter-widgets/controls",
       "_model_module_version": "1.5.0",
       "_model_name": "ProgressStyleModel",
       "_view_count": null,
       "_view_module": "@jupyter-widgets/base",
       "_view_module_version": "1.2.0",
       "_view_name": "StyleView",
       "bar_color": null,
       "description_width": ""
      }
     },
     "84f3ddd4e8ae44398acee7f3f9729185": {
      "model_module": "@jupyter-widgets/controls",
      "model_module_version": "1.5.0",
      "model_name": "IntProgressModel",
      "state": {
       "_dom_classes": [],
       "_model_module": "@jupyter-widgets/controls",
       "_model_module_version": "1.5.0",
       "_model_name": "IntProgressModel",
       "_view_count": null,
       "_view_module": "@jupyter-widgets/controls",
       "_view_module_version": "1.5.0",
       "_view_name": "ProgressView",
       "bar_style": "",
       "description": "Processing: ",
       "description_tooltip": null,
       "layout": "IPY_MODEL_07287c2609094b40ae6b7fe962d875d6",
       "max": 5,
       "min": 0,
       "orientation": "horizontal",
       "style": "IPY_MODEL_cb0b8442fe054c2fac6b70ad52778113",
       "value": 5
      }
     },
     "856bdbedbc874777b87310c76fb54eb1": {
      "model_module": "@jupyter-widgets/controls",
      "model_module_version": "1.5.0",
      "model_name": "IntProgressModel",
      "state": {
       "_dom_classes": [],
       "_model_module": "@jupyter-widgets/controls",
       "_model_module_version": "1.5.0",
       "_model_name": "IntProgressModel",
       "_view_count": null,
       "_view_module": "@jupyter-widgets/controls",
       "_view_module_version": "1.5.0",
       "_view_name": "ProgressView",
       "bar_style": "",
       "description": "Processing: ",
       "description_tooltip": null,
       "layout": "IPY_MODEL_3a01708f0e244fa7a9921e4e054437fe",
       "max": 5,
       "min": 0,
       "orientation": "horizontal",
       "style": "IPY_MODEL_3708dcb38efe4ef8b0ffb75530c408ff",
       "value": 3
      }
     },
     "8804af8551414c21936ad7db6b10cf0b": {
      "model_module": "@jupyter-widgets/controls",
      "model_module_version": "1.5.0",
      "model_name": "ProgressStyleModel",
      "state": {
       "_model_module": "@jupyter-widgets/controls",
       "_model_module_version": "1.5.0",
       "_model_name": "ProgressStyleModel",
       "_view_count": null,
       "_view_module": "@jupyter-widgets/base",
       "_view_module_version": "1.2.0",
       "_view_name": "StyleView",
       "bar_color": null,
       "description_width": ""
      }
     },
     "8c1b76e284294b65a0e92761489be62e": {
      "model_module": "@jupyter-widgets/controls",
      "model_module_version": "1.5.0",
      "model_name": "VBoxModel",
      "state": {
       "_dom_classes": [
        "widget-interact"
       ],
       "_model_module": "@jupyter-widgets/controls",
       "_model_module_version": "1.5.0",
       "_model_name": "VBoxModel",
       "_view_count": null,
       "_view_module": "@jupyter-widgets/controls",
       "_view_module_version": "1.5.0",
       "_view_name": "VBoxView",
       "box_style": "",
       "children": [
        "IPY_MODEL_a67fc593a9fb414ebdf8aded0caa92ca",
        "IPY_MODEL_0e143eea3e8f46d19a77a334ec3c62e1"
       ],
       "layout": "IPY_MODEL_1821c2e3982543b3bc8a94fd3500a83c"
      }
     },
     "8cc11a70300c4549a273b84761105de0": {
      "model_module": "@jupyter-widgets/base",
      "model_module_version": "1.2.0",
      "model_name": "LayoutModel",
      "state": {
       "_model_module": "@jupyter-widgets/base",
       "_model_module_version": "1.2.0",
       "_model_name": "LayoutModel",
       "_view_count": null,
       "_view_module": "@jupyter-widgets/base",
       "_view_module_version": "1.2.0",
       "_view_name": "LayoutView",
       "align_content": null,
       "align_items": null,
       "align_self": null,
       "border": null,
       "bottom": null,
       "display": null,
       "flex": null,
       "flex_flow": null,
       "grid_area": null,
       "grid_auto_columns": null,
       "grid_auto_flow": null,
       "grid_auto_rows": null,
       "grid_column": null,
       "grid_gap": null,
       "grid_row": null,
       "grid_template_areas": null,
       "grid_template_columns": null,
       "grid_template_rows": null,
       "height": null,
       "justify_content": null,
       "justify_items": null,
       "left": null,
       "margin": null,
       "max_height": null,
       "max_width": null,
       "min_height": null,
       "min_width": null,
       "object_fit": null,
       "object_position": null,
       "order": null,
       "overflow": null,
       "overflow_x": null,
       "overflow_y": null,
       "padding": null,
       "right": null,
       "top": null,
       "visibility": null,
       "width": null
      }
     },
     "8eb256f52885409ea2f32ea54dbf6555": {
      "model_module": "@jupyter-widgets/controls",
      "model_module_version": "1.5.0",
      "model_name": "ProgressStyleModel",
      "state": {
       "_model_module": "@jupyter-widgets/controls",
       "_model_module_version": "1.5.0",
       "_model_name": "ProgressStyleModel",
       "_view_count": null,
       "_view_module": "@jupyter-widgets/base",
       "_view_module_version": "1.2.0",
       "_view_name": "StyleView",
       "bar_color": null,
       "description_width": ""
      }
     },
     "93cefa2f739f42c0bb26e416c2f78269": {
      "model_module": "@jupyter-widgets/controls",
      "model_module_version": "1.5.0",
      "model_name": "IntProgressModel",
      "state": {
       "_dom_classes": [],
       "_model_module": "@jupyter-widgets/controls",
       "_model_module_version": "1.5.0",
       "_model_name": "IntProgressModel",
       "_view_count": null,
       "_view_module": "@jupyter-widgets/controls",
       "_view_module_version": "1.5.0",
       "_view_name": "ProgressView",
       "bar_style": "",
       "description": "Processing: ",
       "description_tooltip": null,
       "layout": "IPY_MODEL_33ea92209d0d4083ad4f333445523eea",
       "max": 5,
       "min": 0,
       "orientation": "horizontal",
       "style": "IPY_MODEL_d6cff2bdb524457e908c08c55b62e961",
       "value": 3
      }
     },
     "95abca8e343b43d39ee6d57db16ccaea": {
      "model_module": "@jupyter-widgets/controls",
      "model_module_version": "1.5.0",
      "model_name": "IntProgressModel",
      "state": {
       "_dom_classes": [],
       "_model_module": "@jupyter-widgets/controls",
       "_model_module_version": "1.5.0",
       "_model_name": "IntProgressModel",
       "_view_count": null,
       "_view_module": "@jupyter-widgets/controls",
       "_view_module_version": "1.5.0",
       "_view_name": "ProgressView",
       "bar_style": "",
       "description": "Processing: ",
       "description_tooltip": null,
       "layout": "IPY_MODEL_3bec1ab8997243b4bfe349a01d3129d2",
       "max": 7,
       "min": 0,
       "orientation": "horizontal",
       "style": "IPY_MODEL_4535ab950b314d7c8b5c5c243043d699",
       "value": 7
      }
     },
     "a61a012ed82541f1bcbe8618eb22ddae": {
      "model_module": "@jupyter-widgets/controls",
      "model_module_version": "1.5.0",
      "model_name": "ProgressStyleModel",
      "state": {
       "_model_module": "@jupyter-widgets/controls",
       "_model_module_version": "1.5.0",
       "_model_name": "ProgressStyleModel",
       "_view_count": null,
       "_view_module": "@jupyter-widgets/base",
       "_view_module_version": "1.2.0",
       "_view_name": "StyleView",
       "bar_color": null,
       "description_width": ""
      }
     },
     "a67fc593a9fb414ebdf8aded0caa92ca": {
      "model_module": "@jupyter-widgets/controls",
      "model_module_version": "1.5.0",
      "model_name": "ToggleButtonsModel",
      "state": {
       "_dom_classes": [],
       "_model_module": "@jupyter-widgets/controls",
       "_model_module_version": "1.5.0",
       "_model_name": "ToggleButtonsModel",
       "_options_labels": [
        "Hyperparameters",
        "AUC",
        "Confusion Matrix",
        "Threshold",
        "Precision Recall",
        "Prediction Error",
        "Class Report",
        "Feature Selection",
        "Learning Curve",
        "Manifold Learning",
        "Calibration Curve",
        "Validation Curve",
        "Dimensions",
        "Feature Importance",
        "Feature Importance (All)",
        "Decision Boundary",
        "Lift Chart",
        "Gain Chart",
        "Decision Tree",
        "KS Statistic Plot"
       ],
       "_view_count": null,
       "_view_module": "@jupyter-widgets/controls",
       "_view_module_version": "1.5.0",
       "_view_name": "ToggleButtonsView",
       "button_style": "",
       "description": "Plot Type:",
       "description_tooltip": null,
       "disabled": false,
       "icons": [
        ""
       ],
       "index": 0,
       "layout": "IPY_MODEL_a6df787d76ff4e1cadd3c3ec3bc03aae",
       "style": "IPY_MODEL_d691211194134405a57c931848ab77e9",
       "tooltips": []
      }
     },
     "a6df787d76ff4e1cadd3c3ec3bc03aae": {
      "model_module": "@jupyter-widgets/base",
      "model_module_version": "1.2.0",
      "model_name": "LayoutModel",
      "state": {
       "_model_module": "@jupyter-widgets/base",
       "_model_module_version": "1.2.0",
       "_model_name": "LayoutModel",
       "_view_count": null,
       "_view_module": "@jupyter-widgets/base",
       "_view_module_version": "1.2.0",
       "_view_name": "LayoutView",
       "align_content": null,
       "align_items": null,
       "align_self": null,
       "border": null,
       "bottom": null,
       "display": null,
       "flex": null,
       "flex_flow": null,
       "grid_area": null,
       "grid_auto_columns": null,
       "grid_auto_flow": null,
       "grid_auto_rows": null,
       "grid_column": null,
       "grid_gap": null,
       "grid_row": null,
       "grid_template_areas": null,
       "grid_template_columns": null,
       "grid_template_rows": null,
       "height": null,
       "justify_content": null,
       "justify_items": null,
       "left": null,
       "margin": null,
       "max_height": null,
       "max_width": null,
       "min_height": null,
       "min_width": null,
       "object_fit": null,
       "object_position": null,
       "order": null,
       "overflow": null,
       "overflow_x": null,
       "overflow_y": null,
       "padding": null,
       "right": null,
       "top": null,
       "visibility": null,
       "width": null
      }
     },
     "ad5012a50f1f4e04b8541a93e8978b4a": {
      "model_module": "@jupyter-widgets/controls",
      "model_module_version": "1.5.0",
      "model_name": "IntProgressModel",
      "state": {
       "_dom_classes": [],
       "_model_module": "@jupyter-widgets/controls",
       "_model_module_version": "1.5.0",
       "_model_name": "IntProgressModel",
       "_view_count": null,
       "_view_module": "@jupyter-widgets/controls",
       "_view_module_version": "1.5.0",
       "_view_name": "ProgressView",
       "bar_style": "",
       "description": "Processing: ",
       "description_tooltip": null,
       "layout": "IPY_MODEL_cb58938b762a43bd946845ff63091199",
       "max": 5,
       "min": 0,
       "orientation": "horizontal",
       "style": "IPY_MODEL_0170c9be7e1340968ca0a94cbafca50b",
       "value": 5
      }
     },
     "af2ad46854f8419ea536149e2ef40c9b": {
      "model_module": "@jupyter-widgets/base",
      "model_module_version": "1.2.0",
      "model_name": "LayoutModel",
      "state": {
       "_model_module": "@jupyter-widgets/base",
       "_model_module_version": "1.2.0",
       "_model_name": "LayoutModel",
       "_view_count": null,
       "_view_module": "@jupyter-widgets/base",
       "_view_module_version": "1.2.0",
       "_view_name": "LayoutView",
       "align_content": null,
       "align_items": null,
       "align_self": null,
       "border": null,
       "bottom": null,
       "display": null,
       "flex": null,
       "flex_flow": null,
       "grid_area": null,
       "grid_auto_columns": null,
       "grid_auto_flow": null,
       "grid_auto_rows": null,
       "grid_column": null,
       "grid_gap": null,
       "grid_row": null,
       "grid_template_areas": null,
       "grid_template_columns": null,
       "grid_template_rows": null,
       "height": null,
       "justify_content": null,
       "justify_items": null,
       "left": null,
       "margin": null,
       "max_height": null,
       "max_width": null,
       "min_height": null,
       "min_width": null,
       "object_fit": null,
       "object_position": null,
       "order": null,
       "overflow": null,
       "overflow_x": null,
       "overflow_y": null,
       "padding": null,
       "right": null,
       "top": null,
       "visibility": null,
       "width": null
      }
     },
     "b32ecaecedd649849ae6d17a684a86cf": {
      "model_module": "@jupyter-widgets/base",
      "model_module_version": "1.2.0",
      "model_name": "LayoutModel",
      "state": {
       "_model_module": "@jupyter-widgets/base",
       "_model_module_version": "1.2.0",
       "_model_name": "LayoutModel",
       "_view_count": null,
       "_view_module": "@jupyter-widgets/base",
       "_view_module_version": "1.2.0",
       "_view_name": "LayoutView",
       "align_content": null,
       "align_items": null,
       "align_self": null,
       "border": null,
       "bottom": null,
       "display": null,
       "flex": null,
       "flex_flow": null,
       "grid_area": null,
       "grid_auto_columns": null,
       "grid_auto_flow": null,
       "grid_auto_rows": null,
       "grid_column": null,
       "grid_gap": null,
       "grid_row": null,
       "grid_template_areas": null,
       "grid_template_columns": null,
       "grid_template_rows": null,
       "height": null,
       "justify_content": null,
       "justify_items": null,
       "left": null,
       "margin": null,
       "max_height": null,
       "max_width": null,
       "min_height": null,
       "min_width": null,
       "object_fit": null,
       "object_position": null,
       "order": null,
       "overflow": null,
       "overflow_x": null,
       "overflow_y": null,
       "padding": null,
       "right": null,
       "top": null,
       "visibility": null,
       "width": null
      }
     },
     "b7715a98625f479f81d14266018632da": {
      "model_module": "@jupyter-widgets/controls",
      "model_module_version": "1.5.0",
      "model_name": "ProgressStyleModel",
      "state": {
       "_model_module": "@jupyter-widgets/controls",
       "_model_module_version": "1.5.0",
       "_model_name": "ProgressStyleModel",
       "_view_count": null,
       "_view_module": "@jupyter-widgets/base",
       "_view_module_version": "1.2.0",
       "_view_name": "StyleView",
       "bar_color": null,
       "description_width": ""
      }
     },
     "b780d505d795404f9e9be8f487ecb589": {
      "model_module": "@jupyter-widgets/base",
      "model_module_version": "1.2.0",
      "model_name": "LayoutModel",
      "state": {
       "_model_module": "@jupyter-widgets/base",
       "_model_module_version": "1.2.0",
       "_model_name": "LayoutModel",
       "_view_count": null,
       "_view_module": "@jupyter-widgets/base",
       "_view_module_version": "1.2.0",
       "_view_name": "LayoutView",
       "align_content": null,
       "align_items": null,
       "align_self": null,
       "border": null,
       "bottom": null,
       "display": null,
       "flex": null,
       "flex_flow": null,
       "grid_area": null,
       "grid_auto_columns": null,
       "grid_auto_flow": null,
       "grid_auto_rows": null,
       "grid_column": null,
       "grid_gap": null,
       "grid_row": null,
       "grid_template_areas": null,
       "grid_template_columns": null,
       "grid_template_rows": null,
       "height": null,
       "justify_content": null,
       "justify_items": null,
       "left": null,
       "margin": null,
       "max_height": null,
       "max_width": null,
       "min_height": null,
       "min_width": null,
       "object_fit": null,
       "object_position": null,
       "order": null,
       "overflow": null,
       "overflow_x": null,
       "overflow_y": null,
       "padding": null,
       "right": null,
       "top": null,
       "visibility": null,
       "width": null
      }
     },
     "b872fa72aeee4ababb7027d50dc83bef": {
      "model_module": "@jupyter-widgets/base",
      "model_module_version": "1.2.0",
      "model_name": "LayoutModel",
      "state": {
       "_model_module": "@jupyter-widgets/base",
       "_model_module_version": "1.2.0",
       "_model_name": "LayoutModel",
       "_view_count": null,
       "_view_module": "@jupyter-widgets/base",
       "_view_module_version": "1.2.0",
       "_view_name": "LayoutView",
       "align_content": null,
       "align_items": null,
       "align_self": null,
       "border": null,
       "bottom": null,
       "display": null,
       "flex": null,
       "flex_flow": null,
       "grid_area": null,
       "grid_auto_columns": null,
       "grid_auto_flow": null,
       "grid_auto_rows": null,
       "grid_column": null,
       "grid_gap": null,
       "grid_row": null,
       "grid_template_areas": null,
       "grid_template_columns": null,
       "grid_template_rows": null,
       "height": null,
       "justify_content": null,
       "justify_items": null,
       "left": null,
       "margin": null,
       "max_height": null,
       "max_width": null,
       "min_height": null,
       "min_width": null,
       "object_fit": null,
       "object_position": null,
       "order": null,
       "overflow": null,
       "overflow_x": null,
       "overflow_y": null,
       "padding": null,
       "right": null,
       "top": null,
       "visibility": null,
       "width": null
      }
     },
     "bee1c6e38b3047d68adfd1ba0ec53de5": {
      "model_module": "@jupyter-widgets/controls",
      "model_module_version": "1.5.0",
      "model_name": "ProgressStyleModel",
      "state": {
       "_model_module": "@jupyter-widgets/controls",
       "_model_module_version": "1.5.0",
       "_model_name": "ProgressStyleModel",
       "_view_count": null,
       "_view_module": "@jupyter-widgets/base",
       "_view_module_version": "1.2.0",
       "_view_name": "StyleView",
       "bar_color": null,
       "description_width": ""
      }
     },
     "c9b60e95b5bd461b81f61af9da03c6b0": {
      "model_module": "@jupyter-widgets/controls",
      "model_module_version": "1.5.0",
      "model_name": "IntProgressModel",
      "state": {
       "_dom_classes": [],
       "_model_module": "@jupyter-widgets/controls",
       "_model_module_version": "1.5.0",
       "_model_name": "IntProgressModel",
       "_view_count": null,
       "_view_module": "@jupyter-widgets/controls",
       "_view_module_version": "1.5.0",
       "_view_name": "ProgressView",
       "bar_style": "",
       "description": "Processing: ",
       "description_tooltip": null,
       "layout": "IPY_MODEL_b780d505d795404f9e9be8f487ecb589",
       "max": 3,
       "min": 0,
       "orientation": "horizontal",
       "style": "IPY_MODEL_8eb256f52885409ea2f32ea54dbf6555",
       "value": 3
      }
     },
     "cb0b8442fe054c2fac6b70ad52778113": {
      "model_module": "@jupyter-widgets/controls",
      "model_module_version": "1.5.0",
      "model_name": "ProgressStyleModel",
      "state": {
       "_model_module": "@jupyter-widgets/controls",
       "_model_module_version": "1.5.0",
       "_model_name": "ProgressStyleModel",
       "_view_count": null,
       "_view_module": "@jupyter-widgets/base",
       "_view_module_version": "1.2.0",
       "_view_name": "StyleView",
       "bar_color": null,
       "description_width": ""
      }
     },
     "cb58938b762a43bd946845ff63091199": {
      "model_module": "@jupyter-widgets/base",
      "model_module_version": "1.2.0",
      "model_name": "LayoutModel",
      "state": {
       "_model_module": "@jupyter-widgets/base",
       "_model_module_version": "1.2.0",
       "_model_name": "LayoutModel",
       "_view_count": null,
       "_view_module": "@jupyter-widgets/base",
       "_view_module_version": "1.2.0",
       "_view_name": "LayoutView",
       "align_content": null,
       "align_items": null,
       "align_self": null,
       "border": null,
       "bottom": null,
       "display": null,
       "flex": null,
       "flex_flow": null,
       "grid_area": null,
       "grid_auto_columns": null,
       "grid_auto_flow": null,
       "grid_auto_rows": null,
       "grid_column": null,
       "grid_gap": null,
       "grid_row": null,
       "grid_template_areas": null,
       "grid_template_columns": null,
       "grid_template_rows": null,
       "height": null,
       "justify_content": null,
       "justify_items": null,
       "left": null,
       "margin": null,
       "max_height": null,
       "max_width": null,
       "min_height": null,
       "min_width": null,
       "object_fit": null,
       "object_position": null,
       "order": null,
       "overflow": null,
       "overflow_x": null,
       "overflow_y": null,
       "padding": null,
       "right": null,
       "top": null,
       "visibility": null,
       "width": null
      }
     },
     "d1646bafc98e438f8da4d9cd4d78ee90": {
      "model_module": "@jupyter-widgets/controls",
      "model_module_version": "1.5.0",
      "model_name": "ProgressStyleModel",
      "state": {
       "_model_module": "@jupyter-widgets/controls",
       "_model_module_version": "1.5.0",
       "_model_name": "ProgressStyleModel",
       "_view_count": null,
       "_view_module": "@jupyter-widgets/base",
       "_view_module_version": "1.2.0",
       "_view_name": "StyleView",
       "bar_color": null,
       "description_width": ""
      }
     },
     "d53a9453cab74cb7a29f39c0f2b8a99a": {
      "model_module": "@jupyter-widgets/base",
      "model_module_version": "1.2.0",
      "model_name": "LayoutModel",
      "state": {
       "_model_module": "@jupyter-widgets/base",
       "_model_module_version": "1.2.0",
       "_model_name": "LayoutModel",
       "_view_count": null,
       "_view_module": "@jupyter-widgets/base",
       "_view_module_version": "1.2.0",
       "_view_name": "LayoutView",
       "align_content": null,
       "align_items": null,
       "align_self": null,
       "border": null,
       "bottom": null,
       "display": null,
       "flex": null,
       "flex_flow": null,
       "grid_area": null,
       "grid_auto_columns": null,
       "grid_auto_flow": null,
       "grid_auto_rows": null,
       "grid_column": null,
       "grid_gap": null,
       "grid_row": null,
       "grid_template_areas": null,
       "grid_template_columns": null,
       "grid_template_rows": null,
       "height": null,
       "justify_content": null,
       "justify_items": null,
       "left": null,
       "margin": null,
       "max_height": null,
       "max_width": null,
       "min_height": null,
       "min_width": null,
       "object_fit": null,
       "object_position": null,
       "order": null,
       "overflow": null,
       "overflow_x": null,
       "overflow_y": null,
       "padding": null,
       "right": null,
       "top": null,
       "visibility": null,
       "width": null
      }
     },
     "d55043dcdb1d46688b0de9221f12cd92": {
      "model_module": "@jupyter-widgets/controls",
      "model_module_version": "1.5.0",
      "model_name": "IntProgressModel",
      "state": {
       "_dom_classes": [],
       "_model_module": "@jupyter-widgets/controls",
       "_model_module_version": "1.5.0",
       "_model_name": "IntProgressModel",
       "_view_count": null,
       "_view_module": "@jupyter-widgets/controls",
       "_view_module_version": "1.5.0",
       "_view_name": "ProgressView",
       "bar_style": "",
       "description": "Processing: ",
       "description_tooltip": null,
       "layout": "IPY_MODEL_d53a9453cab74cb7a29f39c0f2b8a99a",
       "max": 5,
       "min": 0,
       "orientation": "horizontal",
       "style": "IPY_MODEL_18504c6fa4cd4eac90ef9484cf176431",
       "value": 5
      }
     },
     "d691211194134405a57c931848ab77e9": {
      "model_module": "@jupyter-widgets/controls",
      "model_module_version": "1.5.0",
      "model_name": "ToggleButtonsStyleModel",
      "state": {
       "_model_module": "@jupyter-widgets/controls",
       "_model_module_version": "1.5.0",
       "_model_name": "ToggleButtonsStyleModel",
       "_view_count": null,
       "_view_module": "@jupyter-widgets/base",
       "_view_module_version": "1.2.0",
       "_view_name": "StyleView",
       "button_width": "",
       "description_width": "",
       "font_weight": ""
      }
     },
     "d6cff2bdb524457e908c08c55b62e961": {
      "model_module": "@jupyter-widgets/controls",
      "model_module_version": "1.5.0",
      "model_name": "ProgressStyleModel",
      "state": {
       "_model_module": "@jupyter-widgets/controls",
       "_model_module_version": "1.5.0",
       "_model_name": "ProgressStyleModel",
       "_view_count": null,
       "_view_module": "@jupyter-widgets/base",
       "_view_module_version": "1.2.0",
       "_view_name": "StyleView",
       "bar_color": null,
       "description_width": ""
      }
     },
     "e00d14e5ab714051a5bcb0da86542fec": {
      "model_module": "@jupyter-widgets/controls",
      "model_module_version": "1.5.0",
      "model_name": "ProgressStyleModel",
      "state": {
       "_model_module": "@jupyter-widgets/controls",
       "_model_module_version": "1.5.0",
       "_model_name": "ProgressStyleModel",
       "_view_count": null,
       "_view_module": "@jupyter-widgets/base",
       "_view_module_version": "1.2.0",
       "_view_name": "StyleView",
       "bar_color": null,
       "description_width": ""
      }
     },
     "e55c4c7777ba455dbc7813a8df9c62df": {
      "model_module": "@jupyter-widgets/controls",
      "model_module_version": "1.5.0",
      "model_name": "IntProgressModel",
      "state": {
       "_dom_classes": [],
       "_model_module": "@jupyter-widgets/controls",
       "_model_module_version": "1.5.0",
       "_model_name": "IntProgressModel",
       "_view_count": null,
       "_view_module": "@jupyter-widgets/controls",
       "_view_module_version": "1.5.0",
       "_view_name": "ProgressView",
       "bar_style": "",
       "description": "Processing: ",
       "description_tooltip": null,
       "layout": "IPY_MODEL_1dec0791708444bca15e4ce02ee5e349",
       "max": 5,
       "min": 0,
       "orientation": "horizontal",
       "style": "IPY_MODEL_e00d14e5ab714051a5bcb0da86542fec",
       "value": 5
      }
     },
     "e6b50073d84d4e0eb53a97737aaa5d97": {
      "model_module": "@jupyter-widgets/controls",
      "model_module_version": "1.5.0",
      "model_name": "IntProgressModel",
      "state": {
       "_dom_classes": [],
       "_model_module": "@jupyter-widgets/controls",
       "_model_module_version": "1.5.0",
       "_model_name": "IntProgressModel",
       "_view_count": null,
       "_view_module": "@jupyter-widgets/controls",
       "_view_module_version": "1.5.0",
       "_view_name": "ProgressView",
       "bar_style": "",
       "description": "Processing: ",
       "description_tooltip": null,
       "layout": "IPY_MODEL_76b873d85002484292dcfc3568becbbb",
       "max": 5,
       "min": 0,
       "orientation": "horizontal",
       "style": "IPY_MODEL_d1646bafc98e438f8da4d9cd4d78ee90",
       "value": 5
      }
     },
     "eeb1d7e016f94f1b9187f806abb00526": {
      "model_module": "@jupyter-widgets/base",
      "model_module_version": "1.2.0",
      "model_name": "LayoutModel",
      "state": {
       "_model_module": "@jupyter-widgets/base",
       "_model_module_version": "1.2.0",
       "_model_name": "LayoutModel",
       "_view_count": null,
       "_view_module": "@jupyter-widgets/base",
       "_view_module_version": "1.2.0",
       "_view_name": "LayoutView",
       "align_content": null,
       "align_items": null,
       "align_self": null,
       "border": null,
       "bottom": null,
       "display": null,
       "flex": null,
       "flex_flow": null,
       "grid_area": null,
       "grid_auto_columns": null,
       "grid_auto_flow": null,
       "grid_auto_rows": null,
       "grid_column": null,
       "grid_gap": null,
       "grid_row": null,
       "grid_template_areas": null,
       "grid_template_columns": null,
       "grid_template_rows": null,
       "height": null,
       "justify_content": null,
       "justify_items": null,
       "left": null,
       "margin": null,
       "max_height": null,
       "max_width": null,
       "min_height": null,
       "min_width": null,
       "object_fit": null,
       "object_position": null,
       "order": null,
       "overflow": null,
       "overflow_x": null,
       "overflow_y": null,
       "padding": null,
       "right": null,
       "top": null,
       "visibility": null,
       "width": null
      }
     },
     "ef49a182d9174d2c98390e4a77476c82": {
      "model_module": "@jupyter-widgets/controls",
      "model_module_version": "1.5.0",
      "model_name": "ProgressStyleModel",
      "state": {
       "_model_module": "@jupyter-widgets/controls",
       "_model_module_version": "1.5.0",
       "_model_name": "ProgressStyleModel",
       "_view_count": null,
       "_view_module": "@jupyter-widgets/base",
       "_view_module_version": "1.2.0",
       "_view_name": "StyleView",
       "bar_color": null,
       "description_width": ""
      }
     },
     "f684eb6a5efd430f98b1093c5e3ccb61": {
      "model_module": "@jupyter-widgets/base",
      "model_module_version": "1.2.0",
      "model_name": "LayoutModel",
      "state": {
       "_model_module": "@jupyter-widgets/base",
       "_model_module_version": "1.2.0",
       "_model_name": "LayoutModel",
       "_view_count": null,
       "_view_module": "@jupyter-widgets/base",
       "_view_module_version": "1.2.0",
       "_view_name": "LayoutView",
       "align_content": null,
       "align_items": null,
       "align_self": null,
       "border": null,
       "bottom": null,
       "display": null,
       "flex": null,
       "flex_flow": null,
       "grid_area": null,
       "grid_auto_columns": null,
       "grid_auto_flow": null,
       "grid_auto_rows": null,
       "grid_column": null,
       "grid_gap": null,
       "grid_row": null,
       "grid_template_areas": null,
       "grid_template_columns": null,
       "grid_template_rows": null,
       "height": null,
       "justify_content": null,
       "justify_items": null,
       "left": null,
       "margin": null,
       "max_height": null,
       "max_width": null,
       "min_height": null,
       "min_width": null,
       "object_fit": null,
       "object_position": null,
       "order": null,
       "overflow": null,
       "overflow_x": null,
       "overflow_y": null,
       "padding": null,
       "right": null,
       "top": null,
       "visibility": null,
       "width": null
      }
     }
    },
    "version_major": 2,
    "version_minor": 0
   }
  }
 },
 "nbformat": 4,
 "nbformat_minor": 5
}
